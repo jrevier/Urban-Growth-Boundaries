{
 "cells": [
  {
   "cell_type": "markdown",
   "metadata": {},
   "source": [
    "# Urban Growth Boundary (UGB)"
   ]
  },
  {
   "cell_type": "code",
   "execution_count": null,
   "metadata": {},
   "outputs": [],
   "source": [
    "#import dependencies\n",
    "import matplotlib.pyplot as plt\n",
    "import pandas as pd\n",
    "import numpy as np\n",
    "import requests\n",
    "import time\n",
    "import scipy.stats as stats\n",
    "from scipy.stats import linregress\n",
    "import gmaps\n",
    "\n",
    "#import API keys: \n",
    "from config import api_key\n",
    "\n",
    "#save data in a CSV\n",
    "output_file = \"output_data/ugb.csv\"\n"
   ]
  },
  {
   "cell_type": "code",
   "execution_count": null,
   "metadata": {},
   "outputs": [],
   "source": [
    "# Start of code for Question 1: housing types"
   ]
  },
  {
   "cell_type": "code",
   "execution_count": null,
   "metadata": {},
   "outputs": [],
   "source": [
    "# Input cleaned housing data as data frame\n",
    "housing = pd.read_csv(\"../Data/HousingTypes_Cleaned.csv\")"
   ]
  },
  {
   "cell_type": "markdown",
   "metadata": {},
   "source": [
    "### Question 1 - Part A: Do cities with a UGB have more multi-unit structures than non-UGB cities?"
   ]
  },
  {
   "cell_type": "code",
   "execution_count": null,
   "metadata": {},
   "outputs": [],
   "source": [
    "# Grouping by UGB identifier\n",
    "units = housing.groupby([\"UGB\"]).sum()\n",
    "# Calculating percentages\n",
    "units = units.div(units[\"Total Response\"], axis=0) * 100\n",
    "\n",
    "units"
   ]
  },
  {
   "cell_type": "code",
   "execution_count": null,
   "metadata": {},
   "outputs": [],
   "source": [
    "# Creating a summary graph of responses \n",
    "# Reorganizing data frame for graphing\n",
    "# Dropping extra columns\n",
    "units_graph = units.drop(columns=[\"Total Response\", \"Median Housing Costs\", \"MOE Housing Costs\"])\n",
    "# Tranpose data frame\n",
    "graph_units = units_graph.transpose()\n",
    "# Reset index\n",
    "graph_structure = graph_units.reset_index()\n",
    "graph_structure"
   ]
  },
  {
   "cell_type": "code",
   "execution_count": null,
   "metadata": {},
   "outputs": [],
   "source": [
    "# Setting the positions and width for the bars\n",
    "pos = list(range(len(graph_structure[\"No\"])))\n",
    "width= 0.25\n",
    "\n",
    "# X tick labels\n",
    "x_labels = (\"1 Unit\", \"2 Units\", \"3 or 4 Units\", \"5 to 9 Units\", \"10 to 19 Units\", \"20 to 49 Units\", \"50 or more Units\", \"Other\")\n",
    "\n",
    "# Plotting the bars\n",
    "fig, ax = plt.subplots(figsize=(20,10))\n",
    "\n",
    "# Create bars for Non UGB\n",
    "plt.bar(pos, graph_structure[\"No\"], width, color=\"blue\", label=graph_structure['index'][0])\n",
    "# Create bars for UGB\n",
    "plt.bar([p + width for p in pos], graph_structure[\"Yes\"], width, color=\"red\", label=graph_structure['index'][1])\n",
    "\n",
    "# Set x axis\n",
    "ax.set_xticks([p + .5 * width for p in pos])\n",
    "ax.set_xticklabels(x_labels, fontsize=16)\n",
    "plt.xlim(min(pos)-width*2, max(pos)+width*3)\n",
    "\n",
    "# Set y axis and labels\n",
    "ax.tick_params(axis='y', labelsize=14)\n",
    "plt.ylim(0,60)\n",
    "plt.ylabel(\"Percent\", fontsize=16)\n",
    "\n",
    "# Add title and legend\n",
    "plt.title(\"Percent of Responses for Units in Structure by UGB Cities\", fontsize=20)\n",
    "plt.legend([\"Non UGB Cities\", \"UGB Cities\"], fontsize=18)\n",
    "\n",
    "# Save graph\n",
    "plt.savefig(\"../Images/UnitsinStructure.png\")\n",
    "\n",
    "# Sizing graph to frame and displaying\n",
    "plt.tight_layout()\n",
    "plt.show()"
   ]
  },
  {
   "cell_type": "code",
   "execution_count": null,
   "metadata": {},
   "outputs": [],
   "source": [
    "# Multi-unit structures\n",
    "# New data frame\n",
    "multiunits = housing.copy()\n",
    "multiunits\n",
    "\n",
    "# Creating single and multi unit variables\n",
    "multiunits[\"Single Unit\"] = multiunits[\"1 unit\"]\n",
    "multiunits[\"Multi Units\"] = multiunits[\"2 units\"] + multiunits[\"3 or 4 units\"] + multiunits[\"5 to 9 units\"]\\\n",
    "+ multiunits[\"10 to 19 units\"] + multiunits[\"20 to 49 units\"] + multiunits[\"50 or more units\"]\n",
    "\n",
    "multiunits\n",
    "# Cleaned data frame\n",
    "multi_units = multiunits[[\"City\", \"State\", \"UGB\", \"Single Unit\", \"Multi Units\", \"Total Response\"]]\n",
    "multi_units"
   ]
  },
  {
   "cell_type": "code",
   "execution_count": null,
   "metadata": {},
   "outputs": [],
   "source": [
    "# Variables for t-test\n",
    "sample_ugb = multi_units.loc[multi_units[\"UGB\"] == \"Yes\"]\n",
    "multi_ugb = sample_ugb[\"Multi Units\"]\n",
    "sample_non = multi_units.loc[multi_units[\"UGB\"] == \"No\"]\n",
    "multi_non = sample_non[\"Multi Units\"]\n",
    "\n",
    "# Independent T-test\n",
    "stats.ttest_ind(multi_ugb, multi_non, equal_var=False)"
   ]
  },
  {
   "cell_type": "markdown",
   "metadata": {},
   "source": [
    "### Question 1 - Part B: Do cities with a UGB have higher overall cost of housing than non-UGB cities?"
   ]
  },
  {
   "cell_type": "code",
   "execution_count": null,
   "metadata": {},
   "outputs": [],
   "source": [
    "# Grouping by UGB identifier\n",
    "costs = housing[[\"City\", \"State\", \"UGB\", \"Median Housing Costs\", \"MOE Housing Costs\"]]\n",
    "costs"
   ]
  },
  {
   "cell_type": "code",
   "execution_count": null,
   "metadata": {},
   "outputs": [],
   "source": [
    "# Variables for t-test\n",
    "costs_ugb = costs.loc[costs[\"UGB\"] == \"Yes\"]\n",
    "ugb_cost = costs_ugb[\"Median Housing Costs\"]\n",
    "costs_non = costs.loc[costs[\"UGB\"] == \"No\"]\n",
    "non_cost = costs_non[\"Median Housing Costs\"]\n",
    "\n",
    "# Independent T-test\n",
    "stats.ttest_ind(ugb_cost, non_cost, equal_var=False)"
   ]
  },
  {
   "cell_type": "code",
   "execution_count": null,
   "metadata": {},
   "outputs": [],
   "source": [
    "# Creating a Box plot to view data distribution for ugb and non-ugb\n",
    "# Creating simple data frame to graph from\n",
    "costs_box = costs[[\"UGB\", \"Median Housing Costs\"]].copy()\n",
    "costs_box.set_index(\"UGB\", inplace=True)\n",
    "\n",
    "# Creating list of values for each box\n",
    "ugb_box = list(costs_box.loc[\"Yes\", \"Median Housing Costs\"])\n",
    "non_ugb = list(costs_box.loc[\"No\", \"Median Housing Costs\"])\n",
    "\n",
    "# Creating variable list to pass to boxplot\n",
    "cities_box = [ugb_box, non_ugb]\n",
    "\n",
    "# Specifying outlier dots and median line\n",
    "flierprops = dict(markerfacecolor='black', marker='o', markersize=12)\n",
    "medianprops = dict(linestyle='-', color=\"blue\", linewidth=2.5)\n",
    "\n",
    "# Generating figure and drawing boxplot\n",
    "fig, ax = plt.subplots(figsize=(15,10))\n",
    "bp = ax.boxplot(cities_box, flierprops=flierprops, medianprops=medianprops)\n",
    "\n",
    "# Updating y axis\n",
    "ax.tick_params(axis='y', labelsize=14)\n",
    "plt.ylim(500,3000)\n",
    "\n",
    "#Adding title and labels\n",
    "ax.set_title(\"Distribution of Median Housing Costs\", fontsize=20)\n",
    "ax.set_ylabel(\"Median Housing Prices ($)\", fontsize=18)\n",
    "ax.set_xticklabels([\"UGB Cities\", \"Non UGB Cities\"], fontsize=18)\n",
    "\n",
    "# Save graph\n",
    "plt.savefig(\"../Images/MedianHousing.png\")\n",
    "\n",
    "# Adjust to frame and display\n",
    "plt.tight_layout()\n",
    "plt.show()"
   ]
  },
  {
   "cell_type": "code",
   "execution_count": null,
   "metadata": {},
   "outputs": [],
   "source": [
    "# End of code for Question 1: housing types"
   ]
  },
  {
   "cell_type": "markdown",
   "metadata": {},
   "source": [
    "Question 2: Do Residents in UGB Cities use Public Transportation more often than those in other cities?"
   ]
  },
  {
   "cell_type": "code",
   "execution_count": null,
   "metadata": {},
   "outputs": [],
   "source": [
    "ransport_data = pd.read_csv(\"transportation_data_use_this_one.csv\", encoding=\"ISO-8859-1\")\n",
    "transport_data.head(20)"
   ]
  },
  {
   "cell_type": "code",
   "execution_count": null,
   "metadata": {},
   "outputs": [],
   "source": [
    "# End of code for Question 2: public transportation"
   ]
  },
  {
   "cell_type": "code",
   "execution_count": null,
   "metadata": {},
   "outputs": [],
   "source": [
    "# Start of code for Question 3: population growth"
   ]
  },
  {
   "cell_type": "code",
   "execution_count": null,
   "metadata": {},
   "outputs": [],
   "source": [
    "# End of code for Question 3: population growth"
   ]
  },
  {
   "cell_type": "markdown",
   "metadata": {},
   "source": [
    "# Question 4:  Do cities with a UGB have a higher population density than U.S. cities?\n"
   ]
  },
  {
   "cell_type": "markdown",
   "metadata": {},
   "source": []
  },
  {
   "cell_type": "code",
   "execution_count": null,
   "metadata": {},
   "outputs": [],
   "source": [
    "#format top 100 cities dataframe\n",
    "populationcsv = \"../Data/top_100clean.csv\"\n",
    "population = pd.read_csv(populationcsv)\n",
    "population = population.rename(columns = {\"Persons by km2\": \"Persons per km2\", \"2010 Census\": \"Census Population\"})\n",
    "population.set_index('City', inplace=True)\n",
    "population"
   ]
  },
  {
   "cell_type": "code",
   "execution_count": null,
   "metadata": {},
   "outputs": [],
   "source": [
    "#ugb dataframe\n",
    "ugb = population.loc[population[\"UGB \"] == \"Yes\", :]\n",
    "ugb"
   ]
  },
  {
   "cell_type": "code",
   "execution_count": null,
   "metadata": {},
   "outputs": [],
   "source": [
    "#non-ugb cities dataframe\n",
    "non_ugb = population.loc[population[\"UGB \"] == \"No\", :]"
   ]
  },
  {
   "cell_type": "code",
   "execution_count": null,
   "metadata": {},
   "outputs": [],
   "source": [
    "#set density variables\n",
    "non_ugb_density = non_ugb[\"Persons per km2\"]\n",
    "density = population[\"Persons per km2\"]\n",
    "ugb_density = ugb[\"Persons per km2\"]"
   ]
  },
  {
   "cell_type": "code",
   "execution_count": null,
   "metadata": {},
   "outputs": [],
   "source": [
    "#summary statistics\n",
    "ugb_density_mean = ugb_density.mean()\n",
    "density_mean = density.mean()\n",
    "ugb_density_median = ugb_density.median()\n",
    "density_median = density.median()\n",
    "min_dens = density.min()\n",
    "max_dens = density.max()\n",
    "min_ugb = ugb_density.min()\n",
    "max_ugb = ugb_density.max()"
   ]
  },
  {
   "cell_type": "code",
   "execution_count": null,
   "metadata": {},
   "outputs": [],
   "source": [
    "#summary statistics dataframe\n",
    "density_summary = pd.DataFrame({'Mean Density':[density_mean], 'Median Density': [density_median], \"Minimun Density\": [min_dens],\n",
    "                                \"Maximum Density\": [max_dens]})\n",
    "density_summary\n"
   ]
  },
  {
   "cell_type": "code",
   "execution_count": null,
   "metadata": {},
   "outputs": [],
   "source": [
    "#summary stats for UGB cities\n",
    "ugb_density_summary = pd.DataFrame({'UGB Mean Density':[ugb_density_mean], 'UGB Median Density': [ugb_density_median], \n",
    "                                    \"UGB Minimun Density\": [min_ugb], \"UGB Maximum Density\": [max_ugb]})\n",
    "ugb_density_summary"
   ]
  },
  {
   "cell_type": "code",
   "execution_count": null,
   "metadata": {},
   "outputs": [],
   "source": [
    "#independent t-test of population density\n",
    "stats.ttest_ind(non_ugb_density, ugb_density, equal_var=False)"
   ]
  },
  {
   "cell_type": "code",
   "execution_count": null,
   "metadata": {},
   "outputs": [],
   "source": [
    "#comfigure gmaps\n",
    "gmaps.configure(api_key=api_key)"
   ]
  },
  {
   "cell_type": "code",
   "execution_count": null,
   "metadata": {},
   "outputs": [],
   "source": [
    "#change data types to float\n",
    "locations = population[[\"Latitude\", \"Longitude\"]].astype(float)\n",
    "ugb_locations =ugb_df[[\"Latitude\", \"Longitude\"]].astype(float)\n",
    "density= population[\"Persons per km2\"].astype(float)\n",
    "ugb_density = ugb_df[\"Persons per km2\"].astype(float)"
   ]
  },
  {
   "cell_type": "code",
   "execution_count": null,
   "metadata": {},
   "outputs": [],
   "source": [
    "#heatmap layer\n",
    "fig = gmaps.figure()\n",
    "\n",
    "heat_layer = gmaps.heatmap_layer(locations, weights=density, \n",
    "                                 dissipating=False, max_intensity=5000,\n",
    "                                 point_radius = 1)\n",
    "\n",
    "fig.add_layer(heat_layer)"
   ]
  },
  {
   "cell_type": "code",
   "execution_count": null,
   "metadata": {},
   "outputs": [],
   "source": [
    "#add ugb markers\n",
    "ugb_layer = gmaps.symbol_layer(\n",
    "    ugb_locations, fill_color='rgba(0, 150, 0, 0.4)',\n",
    "    stroke_color='rgba(0, 0, 150, 0.4)', scale=4)\n",
    "    \n",
    "fig = gmaps.figure()\n",
    "fig.add_layer(ugb_layer)"
   ]
  },
  {
   "cell_type": "code",
   "execution_count": null,
   "metadata": {},
   "outputs": [],
   "source": [
    "#add layers and show figure\n",
    "fig = gmaps.figure()\n",
    "fig.add_layer(heat_layer)\n",
    "fig.add_layer(ugb_layer)\n",
    "\n",
    "fig"
   ]
  },
  {
   "cell_type": "code",
   "execution_count": null,
   "metadata": {},
   "outputs": [],
   "source": [
    "#create boxplots\n",
    "data = [density, ugb_density]\n",
    "fig1, ax1 = plt.subplots()\n",
    "ax1.set_title('Population Density for Top 100 US Cities vs UGB Cities')\n",
    "ax1.set_ylabel('Persons per km2')\n",
    "ax1.boxplot(data)\n",
    "ax1.set_xticklabels(['Top 100 Cities', 'UGB Cities'])\n",
    "top = 5000\n",
    "bottom = 0\n",
    "ax1.set_ylim(bottom, top)\n",
    "plt.show()\n",
    "plt.savefig(\"../Images/PopD_boxplot.png\")\n",
    "plt.show()"
   ]
  },
  {
   "cell_type": "code",
   "execution_count": null,
   "metadata": {},
   "outputs": [],
   "source": [
    "#Top 100 cities quartiles and outliers\n",
    "quartiles = density.quantile([.25,.5,.75])\n",
    "lowerq = quartiles[0.25]\n",
    "upperq = quartiles[0.75]\n",
    "iqr = upperq-lowerq\n",
    "\n",
    "print(f\"The lower quartile of population density is: {lowerq}\")\n",
    "print(f\"The upper quartile of population density is: {upperq}\")\n",
    "print(f\"The interquartile range of population density is: {iqr}\")\n",
    "print(f\"The the median of population density is: {quartiles[0.5]} \")\n",
    "\n",
    "lower_bound = lowerq - (1.5*iqr)\n",
    "upper_bound = upperq + (1.5*iqr)\n",
    "print(f\"Values below {lower_bound} could be outliers.\")\n",
    "print(f\"Values above {upper_bound} could be outliers.\")"
   ]
  },
  {
   "cell_type": "code",
   "execution_count": null,
   "metadata": {},
   "outputs": [],
   "source": [
    "#UGB cities quartiles and outliers\n",
    "quartiles = ugb_density.quantile([.25,.5,.75])\n",
    "lowerq = quartiles[0.25]\n",
    "upperq = quartiles[0.75]\n",
    "iqr = upperq-lowerq\n",
    "\n",
    "print(f\"The lower quartile of UGB population density is: {lowerq}\")\n",
    "print(f\"The upper quartile of UGB population density is: {upperq}\")\n",
    "print(f\"The interquartile range of UGB population density is: {iqr}\")\n",
    "print(f\"The the median of UGB population density is: {quartiles[0.5]} \")\n",
    "\n",
    "lower_bound = lowerq - (1.5*iqr)\n",
    "upper_bound = upperq + (1.5*iqr)\n",
    "print(f\"Values below {lower_bound} could be outliers.\")\n",
    "print(f\"Values above {upper_bound} could be outliers.\")"
   ]
  },
  {
   "cell_type": "code",
   "execution_count": null,
   "metadata": {},
   "outputs": [],
   "source": [
    "# End of code for Question 4: population density"
   ]
  }
 ],
 "metadata": {
  "kernelspec": {
   "display_name": "Python 3",
   "language": "python",
   "name": "python3"
  },
  "language_info": {
   "codemirror_mode": {
    "name": "ipython",
    "version": 3
   },
   "file_extension": ".py",
   "mimetype": "text/x-python",
   "name": "python",
   "nbconvert_exporter": "python",
   "pygments_lexer": "ipython3",
   "version": "3.6.9"
  }
 },
 "nbformat": 4,
 "nbformat_minor": 4
}
