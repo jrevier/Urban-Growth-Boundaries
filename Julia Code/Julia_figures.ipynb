{
 "cells": [
  {
   "cell_type": "code",
   "execution_count": 130,
   "metadata": {},
   "outputs": [
    {
     "ename": "SyntaxError",
     "evalue": "invalid syntax (<ipython-input-130-4284ffa895b4>, line 10)",
     "output_type": "error",
     "traceback": [
      "\u001b[0;36m  File \u001b[0;32m\"<ipython-input-130-4284ffa895b4>\"\u001b[0;36m, line \u001b[0;32m10\u001b[0m\n\u001b[0;31m    jupyter nbextension enable --py --sys-prefix gmaps\u001b[0m\n\u001b[0m                      ^\u001b[0m\n\u001b[0;31mSyntaxError\u001b[0m\u001b[0;31m:\u001b[0m invalid syntax\n"
     ]
    }
   ],
   "source": [
    "import matplotlib.pyplot as plt\n",
    "import pandas as pd\n",
    "import numpy as np\n",
    "import scipy.stats as sts\n",
    "import requests\n",
    "import time\n",
    "from scipy.stats import linregress\n",
    "import gmaps\n",
    "from config import api_key\n"
   ]
  },
  {
   "cell_type": "code",
   "execution_count": 98,
   "metadata": {},
   "outputs": [
    {
     "data": {
      "text/html": [
       "<div>\n",
       "<style scoped>\n",
       "    .dataframe tbody tr th:only-of-type {\n",
       "        vertical-align: middle;\n",
       "    }\n",
       "\n",
       "    .dataframe tbody tr th {\n",
       "        vertical-align: top;\n",
       "    }\n",
       "\n",
       "    .dataframe thead th {\n",
       "        text-align: right;\n",
       "    }\n",
       "</style>\n",
       "<table border=\"1\" class=\"dataframe\">\n",
       "  <thead>\n",
       "    <tr style=\"text-align: right;\">\n",
       "      <th></th>\n",
       "      <th>Rank</th>\n",
       "      <th>Census Population</th>\n",
       "      <th>State</th>\n",
       "      <th>Persons per km2</th>\n",
       "      <th>Latitude</th>\n",
       "      <th>Longitude</th>\n",
       "    </tr>\n",
       "    <tr>\n",
       "      <th>City</th>\n",
       "      <th></th>\n",
       "      <th></th>\n",
       "      <th></th>\n",
       "      <th></th>\n",
       "      <th></th>\n",
       "      <th></th>\n",
       "    </tr>\n",
       "  </thead>\n",
       "  <tbody>\n",
       "    <tr>\n",
       "      <th>New York City</th>\n",
       "      <td>1</td>\n",
       "      <td>8175133</td>\n",
       "      <td>NY</td>\n",
       "      <td>13401.8</td>\n",
       "      <td>40.6943</td>\n",
       "      <td>-73.9249</td>\n",
       "    </tr>\n",
       "    <tr>\n",
       "      <th>Los Angeles</th>\n",
       "      <td>2</td>\n",
       "      <td>3792621</td>\n",
       "      <td>CA</td>\n",
       "      <td>3295.0</td>\n",
       "      <td>34.1139</td>\n",
       "      <td>-118.4068</td>\n",
       "    </tr>\n",
       "    <tr>\n",
       "      <th>Chicago</th>\n",
       "      <td>3</td>\n",
       "      <td>2695598</td>\n",
       "      <td>IL</td>\n",
       "      <td>4612.0</td>\n",
       "      <td>41.8373</td>\n",
       "      <td>-87.6862</td>\n",
       "    </tr>\n",
       "    <tr>\n",
       "      <th>Houston</th>\n",
       "      <td>4</td>\n",
       "      <td>2099451</td>\n",
       "      <td>TX</td>\n",
       "      <td>1401.0</td>\n",
       "      <td>29.7869</td>\n",
       "      <td>-95.3905</td>\n",
       "    </tr>\n",
       "    <tr>\n",
       "      <th>Phoenix</th>\n",
       "      <td>5</td>\n",
       "      <td>1445632</td>\n",
       "      <td>AZ</td>\n",
       "      <td>1212.0</td>\n",
       "      <td>33.5722</td>\n",
       "      <td>-112.0891</td>\n",
       "    </tr>\n",
       "    <tr>\n",
       "      <th>...</th>\n",
       "      <td>...</td>\n",
       "      <td>...</td>\n",
       "      <td>...</td>\n",
       "      <td>...</td>\n",
       "      <td>...</td>\n",
       "      <td>...</td>\n",
       "    </tr>\n",
       "    <tr>\n",
       "      <th>Fremont</th>\n",
       "      <td>96</td>\n",
       "      <td>214089</td>\n",
       "      <td>CA</td>\n",
       "      <td>1171.0</td>\n",
       "      <td>37.5265</td>\n",
       "      <td>-121.9852</td>\n",
       "    </tr>\n",
       "    <tr>\n",
       "      <th>Boise City</th>\n",
       "      <td>97</td>\n",
       "      <td>205671</td>\n",
       "      <td>ID</td>\n",
       "      <td>1045.0</td>\n",
       "      <td>43.6007</td>\n",
       "      <td>-116.2312</td>\n",
       "    </tr>\n",
       "    <tr>\n",
       "      <th>Richmond</th>\n",
       "      <td>98</td>\n",
       "      <td>204214</td>\n",
       "      <td>VA</td>\n",
       "      <td>1463.0</td>\n",
       "      <td>37.5295</td>\n",
       "      <td>-77.4756</td>\n",
       "    </tr>\n",
       "    <tr>\n",
       "      <th>Baton Rouge</th>\n",
       "      <td>99</td>\n",
       "      <td>229493</td>\n",
       "      <td>LA</td>\n",
       "      <td>1006.0</td>\n",
       "      <td>30.4419</td>\n",
       "      <td>-91.1310</td>\n",
       "    </tr>\n",
       "    <tr>\n",
       "      <th>Spokane</th>\n",
       "      <td>100</td>\n",
       "      <td>208916</td>\n",
       "      <td>WA</td>\n",
       "      <td>1218.0</td>\n",
       "      <td>47.6671</td>\n",
       "      <td>-117.4330</td>\n",
       "    </tr>\n",
       "  </tbody>\n",
       "</table>\n",
       "<p>100 rows × 6 columns</p>\n",
       "</div>"
      ],
      "text/plain": [
       "               Rank  Census Population State  Persons per km2  Latitude  \\\n",
       "City                                                                      \n",
       "New York City     1            8175133    NY          13401.8   40.6943   \n",
       "Los Angeles       2            3792621    CA           3295.0   34.1139   \n",
       "Chicago           3            2695598    IL           4612.0   41.8373   \n",
       "Houston           4            2099451    TX           1401.0   29.7869   \n",
       "Phoenix           5            1445632    AZ           1212.0   33.5722   \n",
       "...             ...                ...   ...              ...       ...   \n",
       "Fremont          96             214089    CA           1171.0   37.5265   \n",
       "Boise City       97             205671    ID           1045.0   43.6007   \n",
       "Richmond         98             204214    VA           1463.0   37.5295   \n",
       "Baton Rouge      99             229493    LA           1006.0   30.4419   \n",
       "Spokane         100             208916    WA           1218.0   47.6671   \n",
       "\n",
       "               Longitude  \n",
       "City                      \n",
       "New York City   -73.9249  \n",
       "Los Angeles    -118.4068  \n",
       "Chicago         -87.6862  \n",
       "Houston         -95.3905  \n",
       "Phoenix        -112.0891  \n",
       "...                  ...  \n",
       "Fremont        -121.9852  \n",
       "Boise City     -116.2312  \n",
       "Richmond        -77.4756  \n",
       "Baton Rouge     -91.1310  \n",
       "Spokane        -117.4330  \n",
       "\n",
       "[100 rows x 6 columns]"
      ]
     },
     "execution_count": 98,
     "metadata": {},
     "output_type": "execute_result"
    }
   ],
   "source": [
    "populationcsv = \"../UGB/top_100clean.csv\"\n",
    "population = pd.read_csv(populationcsv)\n",
    "population = population.rename(columns = {\"Persons by km2\": \"Persons per km2\", \"2010 Census\": \"Census Population\"})\n",
    "population.set_index('City', inplace=True)\n",
    "population"
   ]
  },
  {
   "cell_type": "code",
   "execution_count": 99,
   "metadata": {},
   "outputs": [
    {
     "data": {
      "text/html": [
       "<div>\n",
       "<style scoped>\n",
       "    .dataframe tbody tr th:only-of-type {\n",
       "        vertical-align: middle;\n",
       "    }\n",
       "\n",
       "    .dataframe tbody tr th {\n",
       "        vertical-align: top;\n",
       "    }\n",
       "\n",
       "    .dataframe thead th {\n",
       "        text-align: right;\n",
       "    }\n",
       "</style>\n",
       "<table border=\"1\" class=\"dataframe\">\n",
       "  <thead>\n",
       "    <tr style=\"text-align: right;\">\n",
       "      <th></th>\n",
       "      <th>Census Population</th>\n",
       "      <th>State</th>\n",
       "      <th>Persons per km2</th>\n",
       "      <th>Latitude</th>\n",
       "      <th>Longitude</th>\n",
       "    </tr>\n",
       "    <tr>\n",
       "      <th>City</th>\n",
       "      <th></th>\n",
       "      <th></th>\n",
       "      <th></th>\n",
       "      <th></th>\n",
       "      <th></th>\n",
       "    </tr>\n",
       "  </thead>\n",
       "  <tbody>\n",
       "    <tr>\n",
       "      <th>Lexington</th>\n",
       "      <td>295803</td>\n",
       "      <td>KY</td>\n",
       "      <td>438</td>\n",
       "      <td>38.0423</td>\n",
       "      <td>-84.4587</td>\n",
       "    </tr>\n",
       "    <tr>\n",
       "      <th>Seattle</th>\n",
       "      <td>608660</td>\n",
       "      <td>WA</td>\n",
       "      <td>3336</td>\n",
       "      <td>47.6211</td>\n",
       "      <td>-122.3244</td>\n",
       "    </tr>\n",
       "    <tr>\n",
       "      <th>St. Paul</th>\n",
       "      <td>285068</td>\n",
       "      <td>MN</td>\n",
       "      <td>2277</td>\n",
       "      <td>44.9477</td>\n",
       "      <td>-93.1040</td>\n",
       "    </tr>\n",
       "    <tr>\n",
       "      <th>Minneapolis</th>\n",
       "      <td>382578</td>\n",
       "      <td>MN</td>\n",
       "      <td>3019</td>\n",
       "      <td>44.9635</td>\n",
       "      <td>-93.2678</td>\n",
       "    </tr>\n",
       "    <tr>\n",
       "      <th>Virginia Beach</th>\n",
       "      <td>437994</td>\n",
       "      <td>VA</td>\n",
       "      <td>710</td>\n",
       "      <td>36.7335</td>\n",
       "      <td>-76.0435</td>\n",
       "    </tr>\n",
       "  </tbody>\n",
       "</table>\n",
       "</div>"
      ],
      "text/plain": [
       "                Census Population State  Persons per km2  Latitude  Longitude\n",
       "City                                                                         \n",
       "Lexington                  295803    KY              438   38.0423   -84.4587\n",
       "Seattle                    608660    WA             3336   47.6211  -122.3244\n",
       "St. Paul                   285068    MN             2277   44.9477   -93.1040\n",
       "Minneapolis                382578    MN             3019   44.9635   -93.2678\n",
       "Virginia Beach             437994    VA              710   36.7335   -76.0435"
      ]
     },
     "execution_count": 99,
     "metadata": {},
     "output_type": "execute_result"
    }
   ],
   "source": [
    "ugb_cities = \"../UGB/ugb_cities.csv\"\n",
    "ugb_df = pd.read_csv(ugb_cities)\n",
    "ugb_df = ugb_df.rename(columns = {\"Persons per km\": \"Persons per km2\", \"Population\": \"Census Population\"})\n",
    "ugb_df.set_index('City', inplace=True)\n",
    "ugb_df.head()"
   ]
  },
  {
   "cell_type": "code",
   "execution_count": 100,
   "metadata": {},
   "outputs": [],
   "source": [
    "density = population[\"Persons per km2\"]\n",
    "ugb_density = ugb_df[\"Persons per km2\"]"
   ]
  },
  {
   "cell_type": "code",
   "execution_count": 101,
   "metadata": {},
   "outputs": [
    {
     "data": {
      "text/plain": [
       "2346.0"
      ]
     },
     "execution_count": 101,
     "metadata": {},
     "output_type": "execute_result"
    }
   ],
   "source": [
    "ugb_density_mean = ugb_density.mean()\n",
    "ugb_density_mean"
   ]
  },
  {
   "cell_type": "code",
   "execution_count": 102,
   "metadata": {},
   "outputs": [
    {
     "data": {
      "text/plain": [
       "1915.4879999999998"
      ]
     },
     "execution_count": 102,
     "metadata": {},
     "output_type": "execute_result"
    }
   ],
   "source": [
    "cities_density_mean = density.mean()\n",
    "cities_density_mean"
   ]
  },
  {
   "cell_type": "code",
   "execution_count": 103,
   "metadata": {},
   "outputs": [
    {
     "data": {
      "text/plain": [
       "13401.8"
      ]
     },
     "execution_count": 103,
     "metadata": {},
     "output_type": "execute_result"
    }
   ],
   "source": [
    "max_dens = density.max()\n",
    "max_dens"
   ]
  },
  {
   "cell_type": "code",
   "execution_count": 104,
   "metadata": {},
   "outputs": [],
   "source": [
    "gmaps.configure(api_key=api_key)"
   ]
  },
  {
   "cell_type": "code",
   "execution_count": 107,
   "metadata": {},
   "outputs": [],
   "source": [
    "#change data types to float\n",
    "locations = population[[\"Latitude\", \"Longitude\"]].astype(float)\n",
    "ugb_locations =ugb_df[[\"Latitude\", \"Longitude\"]].astype(float)\n",
    "density= population[\"Persons per km2\"].astype(float)\n",
    "ugb_density = ugb_df[\"Persons per km2\"].astype(float)"
   ]
  },
  {
   "cell_type": "code",
   "execution_count": 121,
   "metadata": {
    "scrolled": true
   },
   "outputs": [],
   "source": [
    "#heatmap layer\n",
    "fig = gmaps.figure()\n",
    "\n",
    "heat_layer = gmaps.heatmap_layer(locations, weights=density, \n",
    "                                 dissipating=False, max_intensity=5000,\n",
    "                                 point_radius = 1)\n",
    "\n",
    "fig.add_layer(heat_layer)\n"
   ]
  },
  {
   "cell_type": "code",
   "execution_count": 122,
   "metadata": {},
   "outputs": [],
   "source": [
    "#add ugb markers\n",
    "ugb_layer = gmaps.symbol_layer(\n",
    "    ugb_locations, fill_color='rgba(0, 150, 0, 0.4)',\n",
    "    stroke_color='rgba(0, 0, 150, 0.4)', scale=4)\n",
    "    \n",
    "fig = gmaps.figure()\n",
    "fig.add_layer(ugb_layer)\n"
   ]
  },
  {
   "cell_type": "code",
   "execution_count": 132,
   "metadata": {
    "scrolled": true
   },
   "outputs": [
    {
     "data": {
      "application/vnd.jupyter.widget-view+json": {
       "model_id": "b4e11cb4ffdd4e47bba3f0c308c7d22d",
       "version_major": 2,
       "version_minor": 0
      },
      "text/plain": [
       "Figure(layout=FigureLayout(height='420px'))"
      ]
     },
     "metadata": {},
     "output_type": "display_data"
    }
   ],
   "source": [
    "fig = gmaps.figure()\n",
    "fig.add_layer(heat_layer)\n",
    "fig.add_layer(ugb_layer)\n",
    "\n",
    "fig\n"
   ]
  },
  {
   "cell_type": "code",
   "execution_count": 116,
   "metadata": {},
   "outputs": [
    {
     "data": {
      "image/png": "[encoded data removed]",
      "text/plain": [
       "<Figure size 432x288 with 1 Axes>"
      ]
     },
     "metadata": {
      "needs_background": "light"
     },
     "output_type": "display_data"
    },
    {
     "name": "stdout",
     "output_type": "stream",
     "text": [
      "NormaltestResult(statistic=104.02258871599516, pvalue=2.5809635052509584e-23)\n"
     ]
    }
   ],
   "source": [
    "plt.hist(density)\n",
    "plt.xlabel('Density')\n",
    "plt.ylabel('Counts')\n",
    "plt.show()\n",
    "print(sts.normaltest(density.sample(100)))"
   ]
  },
  {
   "cell_type": "code",
   "execution_count": 117,
   "metadata": {},
   "outputs": [
    {
     "data": {
      "image/png": "[encoded data removed]",
      "text/plain": [
       "<Figure size 432x288 with 1 Axes>"
      ]
     },
     "metadata": {
      "needs_background": "light"
     },
     "output_type": "display_data"
    },
    {
     "name": "stdout",
     "output_type": "stream",
     "text": [
      "NormaltestResult(statistic=0.565848397053911, pvalue=0.7535769079344707)\n"
     ]
    },
    {
     "name": "stderr",
     "output_type": "stream",
     "text": [
      "/Users/Julia/opt/anaconda3/envs/PythonData/lib/python3.6/site-packages/scipy/stats/stats.py:1450: UserWarning: kurtosistest only valid for n>=20 ... continuing anyway, n=8\n",
      "  \"anyway, n=%i\" % int(n))\n"
     ]
    }
   ],
   "source": [
    "plt.hist(ugb_density)\n",
    "plt.xlabel('Density')\n",
    "plt.ylabel('Counts')\n",
    "plt.show()\n",
    "print(sts.normaltest(ugb_density.sample(8)))"
   ]
  },
  {
   "cell_type": "code",
   "execution_count": 126,
   "metadata": {
    "scrolled": true
   },
   "outputs": [
    {
     "data": {
      "image/png": "[encoded data removed]",
      "text/plain": [
       "<Figure size 432x288 with 1 Axes>"
      ]
     },
     "metadata": {
      "needs_background": "light"
     },
     "output_type": "display_data"
    },
    {
     "data": {
      "text/plain": [
       "<Figure size 432x288 with 0 Axes>"
      ]
     },
     "metadata": {},
     "output_type": "display_data"
    }
   ],
   "source": [
    "data = [density, ugb_density]\n",
    "fig1, ax1 = plt.subplots()\n",
    "ax1.set_title('Population Density for Top 100 US Cities vs UGB Cities')\n",
    "ax1.set_ylabel('Persons per km2')\n",
    "ax1.boxplot(data)\n",
    "ax1.set_xticklabels(['Top 100 Cities', 'UGB Cities'])\n",
    "top = 5000\n",
    "bottom = 0\n",
    "ax1.set_ylim(bottom, top)\n",
    "plt.show()\n",
    "plt.savefig(\"../UGB/PopD_boxplot.png\")\n",
    "plt.show()"
   ]
  },
  {
   "cell_type": "code",
   "execution_count": 119,
   "metadata": {},
   "outputs": [
    {
     "name": "stdout",
     "output_type": "stream",
     "text": [
      "The lower quartile of population density is: 951.5\n",
      "The upper quartile of population density is: 2011.0\n",
      "The interquartile range of population density is: 1059.5\n",
      "The the median of population density is: 1386.0 \n",
      "Values below -637.75 could be outliers.\n",
      "Values above 3600.25 could be outliers.\n"
     ]
    }
   ],
   "source": [
    "quartiles = density.quantile([.25,.5,.75])\n",
    "lowerq = quartiles[0.25]\n",
    "upperq = quartiles[0.75]\n",
    "iqr = upperq-lowerq\n",
    "\n",
    "print(f\"The lower quartile of population density is: {lowerq}\")\n",
    "print(f\"The upper quartile of population density is: {upperq}\")\n",
    "print(f\"The interquartile range of population density is: {iqr}\")\n",
    "print(f\"The the median of population density is: {quartiles[0.5]} \")\n",
    "\n",
    "lower_bound = lowerq - (1.5*iqr)\n",
    "upper_bound = upperq + (1.5*iqr)\n",
    "print(f\"Values below {lower_bound} could be outliers.\")\n",
    "print(f\"Values above {upper_bound} could be outliers.\")"
   ]
  },
  {
   "cell_type": "code",
   "execution_count": 120,
   "metadata": {
    "scrolled": true
   },
   "outputs": [
    {
     "name": "stdout",
     "output_type": "stream",
     "text": [
      "The lower quartile of UGB population density is: 1874.0\n",
      "The upper quartile of UGB population density is: 3019.0\n",
      "The interquartile range of UGB population density is: 1145.0\n",
      "The the median of UGB population density is: 2257.0 \n",
      "Values below 156.5 could be outliers.\n",
      "Values above 4736.5 could be outliers.\n"
     ]
    }
   ],
   "source": [
    "quartiles = ugb_density.quantile([.25,.5,.75])\n",
    "lowerq = quartiles[0.25]\n",
    "upperq = quartiles[0.75]\n",
    "iqr = upperq-lowerq\n",
    "\n",
    "print(f\"The lower quartile of UGB population density is: {lowerq}\")\n",
    "print(f\"The upper quartile of UGB population density is: {upperq}\")\n",
    "print(f\"The interquartile range of UGB population density is: {iqr}\")\n",
    "print(f\"The the median of UGB population density is: {quartiles[0.5]} \")\n",
    "\n",
    "lower_bound = lowerq - (1.5*iqr)\n",
    "upper_bound = upperq + (1.5*iqr)\n",
    "print(f\"Values below {lower_bound} could be outliers.\")\n",
    "print(f\"Values above {upper_bound} could be outliers.\")"
   ]
  },
  {
   "cell_type": "code",
   "execution_count": null,
   "metadata": {},
   "outputs": [],
   "source": []
  }
 ],
 "metadata": {
  "kernelspec": {
   "display_name": "Python 3",
   "language": "python",
   "name": "python3"
  },
  "language_info": {
   "codemirror_mode": {
    "name": "ipython",
    "version": 3
   },
   "file_extension": ".py",
   "mimetype": "text/x-python",
   "name": "python",
   "nbconvert_exporter": "python",
   "pygments_lexer": "ipython3",
   "version": "3.6.9"
  }
 },
 "nbformat": 4,
 "nbformat_minor": 4
}
