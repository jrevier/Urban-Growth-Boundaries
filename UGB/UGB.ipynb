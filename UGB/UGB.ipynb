{
 "cells": [
  {
   "cell_type": "markdown",
   "metadata": {},
   "source": [
    "# Urban Growth Boundary (UGB)"
   ]
  },
  {
   "cell_type": "code",
   "execution_count": null,
   "metadata": {},
   "outputs": [],
   "source": [
    "#import dependencies\n",
    "import matplotlib.pyplot as plt\n",
    "import pandas as pd\n",
    "import numpy as np\n",
    "import requests\n",
    "import time\n",
    "import scipy.stats as stats\n",
    "from scipy.stats import linregress\n",
    "import gmaps\n",
    "\n",
    "#import API keys: \n",
    "from config import api_key\n",
    "\n",
    "#save data in a CSV\n",
    "output_file = \"output_data/ugb.csv\"\n"
   ]
  },
  {
   "cell_type": "code",
   "execution_count": null,
   "metadata": {},
   "outputs": [],
   "source": [
    "# Start of code for Question 1: housing types"
   ]
  },
  {
   "cell_type": "code",
   "execution_count": null,
   "metadata": {},
   "outputs": [],
   "source": [
    "# Input cleaned housing data as data frame\n",
    "housing = pd.read_csv(\"../Data/HousingTypes_Cleaned.csv\")"
   ]
  },
  {
   "cell_type": "markdown",
   "metadata": {},
   "source": [
    "### Question 1 - Part A: Do cities with a UGB have more multi-unit structures than non-UGB cities?"
   ]
  },
  {
   "cell_type": "code",
   "execution_count": null,
   "metadata": {},
   "outputs": [],
   "source": [
    "# Grouping by UGB identifier\n",
    "units = housing.groupby([\"UGB\"]).sum()\n",
    "# Calculating percentages\n",
    "units = units.div(units[\"Total Response\"], axis=0) * 100\n",
    "\n",
    "units"
   ]
  },
  {
   "cell_type": "code",
   "execution_count": null,
   "metadata": {},
   "outputs": [],
   "source": [
    "# Creating a summary graph of responses \n",
    "# Reorganizing data frame for graphing\n",
    "# Dropping extra columns\n",
    "units_graph = units.drop(columns=[\"Total Response\", \"Median Housing Costs\", \"MOE Housing Costs\"])\n",
    "# Tranpose data frame\n",
    "graph_units = units_graph.transpose()\n",
    "# Reset index\n",
    "graph_structure = graph_units.reset_index()\n",
    "graph_structure"
   ]
  },
  {
   "cell_type": "code",
   "execution_count": null,
   "metadata": {},
   "outputs": [],
   "source": [
    "# Bar graph for all response options\n",
    "# Setting the positions and width for the bars\n",
    "pos = list(range(len(graph_structure[\"No\"])))\n",
    "width= 0.25\n",
    "\n",
    "# X tick labels\n",
    "x_labels = (\"1 Unit\", \"2 Units\", \"3 or 4 Units\", \"5 to 9 Units\", \"10 to 19 Units\", \"20 to 49 Units\", \"50 or more Units\", \"Other\")\n",
    "\n",
    "# Plotting the bars\n",
    "fig, ax = plt.subplots(figsize=(20,10))\n",
    "\n",
    "# Create bars for Non UGB\n",
    "plt.bar(pos, graph_structure[\"No\"], width, color=\"blue\", label=graph_structure['index'][0])\n",
    "# Create bars for UGB\n",
    "plt.bar([p + width for p in pos], graph_structure[\"Yes\"], width, color=\"red\", label=graph_structure['index'][1])\n",
    "\n",
    "# Set x axis\n",
    "ax.set_xticks([p + .5 * width for p in pos])\n",
    "ax.set_xticklabels(x_labels, fontsize=16)\n",
    "plt.xlim(min(pos)-width*2, max(pos)+width*3)\n",
    "\n",
    "# Set y axis and labels\n",
    "ax.tick_params(axis='y', labelsize=14)\n",
    "plt.ylim(0,60)\n",
    "plt.ylabel(\"Percent\", fontsize=16)\n",
    "\n",
    "# Add title and legend\n",
    "plt.title(\"Percent of Responses for Units in Structure by UGB Cities\", fontsize=20)\n",
    "plt.legend([\"Non UGB Cities\", \"UGB Cities\"], fontsize=18)\n",
    "\n",
    "# Save graph\n",
    "plt.savefig(\"../Images/UnitsinStructure.png\")\n",
    "\n",
    "# Sizing graph to frame and displaying\n",
    "plt.tight_layout()\n",
    "plt.show()"
   ]
  },
  {
   "cell_type": "code",
   "execution_count": null,
   "metadata": {},
   "outputs": [],
   "source": [
    "# Multi-unit structures\n",
    "# New data frame\n",
    "structure = housing.copy()\n",
    "\n",
    "# Creating single and multi unit variables\n",
    "structure[\"Single Unit\"] = structure[\"1 unit\"]\n",
    "structure[\"Multi Units\"] = structure[\"2 units\"] + structure[\"3 or 4 units\"] + structure[\"5 to 9 units\"]\\\n",
    "+ structure[\"10 to 19 units\"] + structure[\"20 to 49 units\"] + structure[\"50 or more units\"]\n",
    "\n",
    "# Updating Total Columns\n",
    "structure[\"Updated Total\"] = structure[\"Single Unit\"] + structure[\"Multi Units\"]\n",
    "\n",
    "# Cleaned data frame\n",
    "structure_type = structure[[\"City\", \"State\", \"UGB\", \"Single Unit\", \"Multi Units\", \"Updated Total\"]].copy()\n",
    "structure_type"
   ]
  },
  {
   "cell_type": "code",
   "execution_count": null,
   "metadata": {},
   "outputs": [],
   "source": [
    "# Grouping by UGB\n",
    "type_graph = structure_type.groupby([\"UGB\"]).sum()\n",
    "\n",
    "# Calucaling percents\n",
    "type_graph = type_graph.div(type_graph[\"Updated Total\"], axis=0) * 100\n",
    "\n",
    "# Reset index\n",
    "type_graph = type_graph.reset_index()\n",
    "type_graph"
   ]
  },
  {
   "cell_type": "code",
   "execution_count": null,
   "metadata": {},
   "outputs": [],
   "source": [
    "# Bar graph for single units and multi units\n",
    "# Setting the positions and width for the bars\n",
    "posi = list(range(len(type_graph[\"Single Unit\"])))\n",
    "width = 0.25\n",
    "\n",
    "# X Tick labels\n",
    "xlabels = (\"Non UGB Cities\", \"UGB Cities\")\n",
    "\n",
    "# Plotting the bars\n",
    "fig, ax = plt.subplots(figsize=(18,10))\n",
    "\n",
    "#Create bar set 1\n",
    "plt.bar(posi, type_graph[\"Single Unit\"], width, color=\"blue\", label=type_graph['UGB'][0])\n",
    "#Create bar set 2\n",
    "plt.bar([p + width for p in posi], type_graph[\"Multi Units\"], width, color=\"red\", label=type_graph['UGB'][1])\n",
    "\n",
    "# Set x axis\n",
    "ax.set_xticks([p + .5 * width for p in posi])\n",
    "ax.set_xticklabels(xlabels, fontsize=16)\n",
    "plt.xlim(min(posi)-width*2, max(posi)+width*3)\n",
    "\n",
    "# Set y axis and labels\n",
    "ax.tick_params(axis='y', labelsize=14)\n",
    "plt.ylim(0,60)\n",
    "plt.ylabel(\"Percent\", fontsize=16)\n",
    "\n",
    "# Add title and legend\n",
    "plt.title(\"Percent of Responses for Single-Unit and Multi-Unit Structures\", fontsize=20)\n",
    "plt.legend([\"Single-Unit\", \"Multi-Unit\"], fontsize=18)\n",
    "\n",
    "# Save graph\n",
    "plt.savefig(\"../Images/SingleUnitvMultiUnit.png\")\n",
    "\n",
    "# Sizing graph to frame and displaying\n",
    "plt.tight_layout()\n",
    "plt.show()"
   ]
  },
  {
   "cell_type": "code",
   "execution_count": null,
   "metadata": {},
   "outputs": [],
   "source": [
    "# Building data frame to run chi-squared\n",
    "# Finding Observed Values\n",
    "ugb_types = structure_type.loc[structure_type[\"UGB\"] == \"Yes\"]\n",
    "ugb_singles = ugb_types[\"Single Unit\"].sum()\n",
    "ugb_multis = ugb_types[\"Multi Units\"].sum()\n",
    "ugb_total = ugb_types[\"Updated Total\"].sum()\n",
    "\n",
    "# Finding rate to calculate Expected Values\n",
    "single_rate = (type_graph.iloc[0, 1]) / 100\n",
    "multi_rate = (type_graph.iloc[0, 2]) / 100\n",
    "\n",
    "# Calculate expected values\n",
    "single_expected = ugb_total * single_rate\n",
    "multi_expected = ugb_total * multi_rate\n",
    "\n",
    "# Building data frame\n",
    "ugb_chi = pd.DataFrame({\n",
    "    \"Type\": [\"Single Unit\", \"Multi Unit\"],\n",
    "    \"Observed\": [ugb_singles, ugb_multis],\n",
    "    \"Expected\": [round(single_expected,2), round(multi_expected,2)]\n",
    "})\n",
    "ugb_chi"
   ]
  },
  {
   "cell_type": "code",
   "execution_count": null,
   "metadata": {},
   "outputs": [],
   "source": [
    "# Chi-Squared Goodness of Fit test\n",
    "# Critical value\n",
    "critical_value = stats.chi2.ppf(q = 0.95, df = 1)\n",
    "print(f\"The critical value = {round(critical_value,2)}\")\n",
    "\n",
    "# Chi-Squared Test\n",
    "stats.chisquare(ugb_chi[\"Observed\"], ugb_chi[\"Expected\"])\n"
   ]
  },
  {
   "cell_type": "markdown",
   "metadata": {},
   "source": [
    "### Question 1 - Part B: Do cities with a UGB have higher overall cost of housing than non-UGB cities?"
   ]
  },
  {
   "cell_type": "code",
   "execution_count": null,
   "metadata": {},
   "outputs": [],
   "source": [
    "# Grouping by UGB identifier\n",
    "costs = housing[[\"City\", \"State\", \"UGB\", \"Median Housing Costs\", \"MOE Housing Costs\"]]\n",
    "costs"
   ]
  },
  {
   "cell_type": "code",
   "execution_count": null,
   "metadata": {},
   "outputs": [],
   "source": [
    "# Variables for t-test\n",
    "costs_ugb = costs.loc[costs[\"UGB\"] == \"Yes\"]\n",
    "ugb_cost = costs_ugb[\"Median Housing Costs\"]\n",
    "costs_non = costs.loc[costs[\"UGB\"] == \"No\"]\n",
    "non_cost = costs_non[\"Median Housing Costs\"]\n",
    "\n",
    "# Independent T-test\n",
    "stats.ttest_ind(ugb_cost, non_cost, equal_var=False)"
   ]
  },
  {
   "cell_type": "code",
   "execution_count": null,
   "metadata": {},
   "outputs": [],
   "source": [
    "# Creating a Box plot to view data distribution for ugb and non-ugb\n",
    "# Creating simple data frame to graph from\n",
    "costs_box = costs[[\"UGB\", \"Median Housing Costs\"]].copy()\n",
    "costs_box.set_index(\"UGB\", inplace=True)\n",
    "\n",
    "# Creating list of values for each box\n",
    "ugb_box = list(costs_box.loc[\"Yes\", \"Median Housing Costs\"])\n",
    "non_ugb = list(costs_box.loc[\"No\", \"Median Housing Costs\"])\n",
    "\n",
    "# Creating variable list to pass to boxplot\n",
    "cities_box = [ugb_box, non_ugb]\n",
    "\n",
    "# Specifying outlier dots and median line\n",
    "flierprops = dict(markerfacecolor='black', marker='o', markersize=12)\n",
    "medianprops = dict(linestyle='-', color=\"blue\", linewidth=2.5)\n",
    "\n",
    "# Generating figure and drawing boxplot\n",
    "fig, ax = plt.subplots(figsize=(15,10))\n",
    "bp = ax.boxplot(cities_box, flierprops=flierprops, medianprops=medianprops)\n",
    "\n",
    "# Updating y axis\n",
    "ax.tick_params(axis='y', labelsize=14)\n",
    "plt.ylim(500,3000)\n",
    "\n",
    "#Adding title and labels\n",
    "ax.set_title(\"Distribution of Median Housing Costs\", fontsize=20)\n",
    "ax.set_ylabel(\"Median Housing Prices ($)\", fontsize=18)\n",
    "ax.set_xticklabels([\"UGB Cities\", \"Non UGB Cities\"], fontsize=18)\n",
    "\n",
    "# Save graph\n",
    "plt.savefig(\"../Images/MedianHousing.png\")\n",
    "\n",
    "# Adjust to frame and display\n",
    "plt.tight_layout()\n",
    "plt.show()"
   ]
  },
  {
   "cell_type": "code",
   "execution_count": null,
   "metadata": {},
   "outputs": [],
   "source": [
    "# End of code for Question 1: housing types"
   ]
  },
  {
   "cell_type": "code",
   "execution_count": null,
   "metadata": {},
   "outputs": [],
   "source": [
    "# Start of code for Question 2: public transportation"
   ]
  },
  {
   "cell_type": "code",
   "execution_count": null,
   "metadata": {},
   "outputs": [],
   "source": [
    "# End of code for Question 2: public transportation"
   ]
  },
  {
   "cell_type": "code",
   "execution_count": null,
   "metadata": {},
   "outputs": [],
   "source": [
    "# Start of code for Question 3: population growth"
   ]
  },
  {
   "cell_type": "markdown",
   "metadata": {},
   "source": [
    "# Question 3: Do UGB cities have lower population growth than the top 100 US Cities?  Lower than the avg US population growth?"
   ]
  },
  {
   "cell_type": "code",
   "execution_count": null,
   "metadata": {},
   "outputs": [],
   "source": [
    "#setup dependencies\n",
    "import pandas as pd\n",
    "import numpy as np \n",
    "import scipy.stats as stats\n",
    "import matplotlib.pyplot as plt\n",
    "from scipy.stats import linregress\n",
    "import gmaps\n",
    "import requests\n",
    "import json\n",
    "from config import gkey"
   ]
  },
  {
   "cell_type": "code",
   "execution_count": null,
   "metadata": {},
   "outputs": [],
   "source": [
    "#import csvs\n",
    "UGB_Popcsv = \"UGB_pop.csv\"\n",
    "UGB_Growcsv = \"UGB_PopGrowth.csv\"\n",
    "top100_Popcsv = \"Top100_CitiesPop.csv\"\n",
    "top100_Growcsv = \"Pop_Growth.csv\""
   ]
  },
  {
   "cell_type": "code",
   "execution_count": null,
   "metadata": {},
   "outputs": [],
   "source": [
    "#set up dataframes and check output\n",
    "#UGB pop and growth\n",
    "#top 100 pop and growth\n",
    "UGBpop_df = pd.read_csv(UGB_Popcsv)\n",
    "UGBgro_df = pd.read_csv(UGB_Growcsv)\n",
    "Toppop_df = pd.read_csv(top100_Popcsv)\n",
    "Topgro_df = pd.read_csv(top100_Growcsv)"
   ]
  },
  {
   "cell_type": "code",
   "execution_count": null,
   "metadata": {},
   "outputs": [],
   "source": [
    "#merge the top100 Pop and growth, output\n",
    "top100_df = pd.merge(Toppop_df, Topgro_df, how = \"left\", on = [\"ID\", \"ID\"])\n",
    "#top100_df.head()"
   ]
  },
  {
   "cell_type": "code",
   "execution_count": null,
   "metadata": {},
   "outputs": [],
   "source": [
    "#merge UGB pop and growth, output\n",
    "UGB_df = pd.merge(UGBpop_df, UGBgro_df, how = \"left\", on = [\"ID\", \"ID\"])\n",
    "#UGB_df"
   ]
  },
  {
   "cell_type": "code",
   "execution_count": null,
   "metadata": {},
   "outputs": [],
   "source": [
    "#reformat the df's, (remove Rank_x, Rank_y, City_y, State_y,\n",
    "#Estimated Population 2017, Estimated Population 2018)\n",
    "UGB_df.drop([\"Rank_x\", \"Rank_y\", \"City_y\", \"State_y\",\"Estimated Population 2017\", \"Estimated Population 2018\"], axis = 1, inplace = True)\n",
    "UGB_df.rename(columns = {\"Rank_x\": \"Rank\", \"City_x\": \"City\", \"State_x\": \"State\"}, inplace = True)\n",
    "UGB_df"
   ]
  },
  {
   "cell_type": "code",
   "execution_count": null,
   "metadata": {},
   "outputs": [],
   "source": [
    "#repeat for the top100 cities, rename City_x and State_x\n",
    "top100_df.drop([\"Rank_x\", \"Rank_y\", \"City_y\", \"State_y\",\"Estimated Population 2017\", \"Estimated Population 2018\"], axis = 1, inplace = True)\n",
    "top100_df.rename(columns = {\"Rank_x\": \"Rank\", \"City_x\": \"City\", \"State_x\": \"State\"}, inplace = True)\n",
    "top100_df"
   ]
  },
  {
   "cell_type": "code",
   "execution_count": null,
   "metadata": {},
   "outputs": [],
   "source": [
    "#create statistics\n",
    "UGB_summ_df = {}\n",
    "UGB_summ_df = pd.DataFrame()\n",
    "\n",
    "UGB_summ_df[\"Avg Population\"] = [UGB_df[\"2018_Estimate\"].mean()]\n",
    "UGB_summ_df[\"Median Population\"] = [UGB_df[\"2018_Estimate\"].median()]\n",
    "UGB_summ_df[\"Population Variance\"] = [UGB_df[\"2018_Estimate\"].var()]\n",
    "UGB_summ_df[\"Population Standard Deviation\"] = [UGB_df[\"2018_Estimate\"].std()]\n",
    "UGB_summ_df[\"Population SEM\"] = [UGB_df[\"2018_Estimate\"].sem()]\n",
    "\n",
    "UGB_summ_df[\"Avg Pop Growth\"] = [UGB_df[\"Percent Difference\"].mean()]\n",
    "UGB_summ_df[\"Median Pop Growth\"] = [UGB_df[\"Percent Difference\"].median()]\n",
    "UGB_summ_df[\"Pop Growth Variance\"] = [UGB_df[\"Percent Difference\"].var()]\n",
    "UGB_summ_df[\"Pop Gorwth Standard Deviation\"] = [UGB_df[\"Percent Difference\"].std()]\n",
    "UGB_summ_df[\"Pop Growth SEM\"] = [UGB_df[\"Percent Difference\"].sem()]\n",
    "\n",
    "UGB_summ_df = pd.DataFrame(UGB_summ_df)\n",
    "UGB_summ_df"
   ]
  },
  {
   "cell_type": "code",
   "execution_count": null,
   "metadata": {},
   "outputs": [],
   "source": [
    "top100_summ_df = {}\n",
    "top100_summ_df = pd.DataFrame()\n",
    "\n",
    "top100_summ_df[\"Avg Population\"] = [top100_df[\"2018_Estimate\"].mean()]\n",
    "top100_summ_df[\"Median Population\"] = [top100_df[\"2018_Estimate\"].median()]\n",
    "top100_summ_df[\"Population Variance\"] = [top100_df[\"2018_Estimate\"].var()]\n",
    "top100_summ_df[\"Population Standard Deviation\"] = [top100_df[\"2018_Estimate\"].std()]\n",
    "top100_summ_df[\"Population SEM\"] = [top100_df[\"2018_Estimate\"].sem()]\n",
    "\n",
    "top100_summ_df[\"Avg Pop Growth\"] = [top100_df[\"Percent Difference\"].mean()]\n",
    "top100_summ_df[\"Median Pop Growth\"] = [top100_df[\"Percent Difference\"].median()]\n",
    "top100_summ_df[\"Pop Growth Variance\"] = [top100_df[\"Percent Difference\"].var()]\n",
    "top100_summ_df[\"Pop Gorwth Standard Deviation\"] = [top100_df[\"Percent Difference\"].std()]\n",
    "top100_summ_df[\"Pop Growth SEM\"] = [top100_df[\"Percent Difference\"].sem()]\n",
    "\n",
    "top100_sum_df = pd.DataFrame(top100_summ_df)\n",
    "top100_sum_df"
   ]
  },
  {
   "cell_type": "code",
   "execution_count": null,
   "metadata": {},
   "outputs": [],
   "source": [
    "#barchart of UGB cities population\n",
    "plt.bar(UGB_df[\"City\"], UGB_df[\"2018_Estimate\"], width = 0.5, color = 'lightskyblue')\n",
    "plt.title(\"Populations of UGB Cities\")\n",
    "plt.xlabel(\"City\")\n",
    "plt.ylabel(\"Population\")\n",
    "plt.xlim(-1,10)\n",
    "plt.ylim(0,1050000)\n",
    "plt.xticks(rotation = 45)"
   ]
  },
  {
   "cell_type": "code",
   "execution_count": null,
   "metadata": {},
   "outputs": [],
   "source": [
    "#bar chart of top100, UGB and total US\n",
    "#compare to total US population growth = .62%, https://www.multpl.com/us-population-growth-rate/table/by-year\n",
    "plt.bar(\"Top 100 Cities\", top100_summ_df[\"Avg Pop Growth\"], color = 'lightskyblue')\n",
    "plt.bar(\"UGB Cities\", UGB_summ_df[\"Avg Pop Growth\"], color = 'purple' )\n",
    "plt.bar(\"Entire US\", [.62], color = 'crimson')\n",
    "plt.title(\"Average Population Growth by Subset\")\n",
    "plt.xlabel(\"Subset\")\n",
    "plt.ylabel(\"Average Population Growth (%)\")\n",
    "plt.xlim(-1,3)\n",
    "plt.ylim(0,1)\n",
    "plt.xticks(rotation = 45)"
   ]
  },
  {
   "cell_type": "code",
   "execution_count": null,
   "metadata": {},
   "outputs": [],
   "source": [
    "UGB_growth = ((UGB_summ_df[\"Avg Pop Growth\"]/100) * top100_summ_df[\"Avg Population\"])\n",
    "top100_growth = ((top100_summ_df[\"Avg Pop Growth\"]/100) * top100_summ_df[\"Avg Population\"])\n",
    "US_growth = (.0062 * top100_summ_df[\"Avg Population\"])\n",
    "\n",
    "Pop_growth_df = {}\n",
    "Pop_growth_df = pd.DataFrame()\n",
    "Pop_growth_df[\"UGB Pop Increase\"] = UGB_growth\n",
    "Pop_growth_df[\"Top 100 City Pop Increase\"] = top100_growth\n",
    "Pop_growth_df[\"USA Pop Increase\"] = US_growth\n",
    "Pop_growth_df = pd.DataFrame(Pop_growth_df)\n",
    "Pop_growth_df"
   ]
  },
  {
   "cell_type": "code",
   "execution_count": null,
   "metadata": {},
   "outputs": [],
   "source": [
    "UGB_sample = (UGB_df[\"Percent Difference\"])\n",
    "top100_sample = (top100_df[\"Percent Difference\"])\n",
    "stats.ttest_ind(UGB_sample, top100_sample, equal_var=False)"
   ]
  },
  {
   "cell_type": "code",
   "execution_count": null,
   "metadata": {},
   "outputs": [],
   "source": [
    "#creat heatmap of UGB cities population growth and decline\n",
    "target_cities = [\"San Jose, California\", \"Seattle, Washington\", \"Portland, Oregon\", \"Miami, Florida\", \"Virginia Beach, Virginia\",\n",
    "                \"Minneapolis, Minnesota\", \"Honolulu, Hawaii\", \"Lexington, Kentucky\", \"St. Paul, Minnesota\", \"Boulder, Colorado\"]\n",
    "\n",
    "for city in target_cities:\n",
    "    params = {\"address\": city, \"key\": gkey}\n",
    "    base_url = \"https://maps.googleapis.com/maps/api/geocode/json\"\n",
    "    response = requests.get(base_url, params = params)\n",
    "\n",
    "    cities_geo = response.json()\n",
    "\n",
    "    lat = cities_geo[\"results\"][0][\"geometry\"][\"location\"][\"lat\"]\n",
    "    lng = cities_geo[\"results\"][0][\"geometry\"][\"location\"][\"lng\"]\n",
    "\n",
    "    print(f\"{city}: {lat}, {lng}\")"
   ]
  },
  {
   "cell_type": "code",
   "execution_count": null,
   "metadata": {},
   "outputs": [],
   "source": [
    "#create data frame of the outputs\n",
    "cities_df = {}\n",
    "cities_df = pd.DataFrame()\n",
    "\n",
    "cities_df[\"City\"] = [\"San Jose, California\", \"Seattle, Washington\", \"Portland, Oregon\", \"Miami, Florida\", \"Virginia Beach, Virginia\",\n",
    "                \"Minneapolis, Minnesota\", \"Honolulu, Hawaii\", \"Lexington, Kentucky\", \"St. Paul, Minnesota\", \"Boulder, Colorado\"]\n",
    "cities_df[\"Lat\"] = [37.3382082, 47.6062095, 45.5051064,\n",
    "                           25.7616798, 36.8529263, 44.977753,\n",
    "                           21.3069444, 38.0405837, 44.9537029, 40.0149856]\n",
    "cities_df[\"Lng\"] = [\"-121.8863286\", \"-122.3320708\", \"-122.6750261\", \"-80.1917902\", \"-75.97798499999999\", \"-93.2650108\",\n",
    "                    \"-157.8583333\", \"-84.5037164\", \"-93.0899578\", \"-105.2705456\"]\n",
    "\n",
    "cities_df[\"Population Growth\"] = UGB_df[\"Percent Difference\"]\n",
    "cities_df = pd.DataFrame(cities_df)\n",
    "cities_df"
   ]
  },
  {
   "cell_type": "code",
   "execution_count": null,
   "metadata": {},
   "outputs": [],
   "source": [
    "#create heatmap \n",
    "locations = cities_df[[\"Lat\", \"Lng\"]].astype(float)\n",
    "growth = cities_df[\"Population Growth\"].astype(float)\n",
    "\n",
    "fig = gmaps.figure()\n",
    "\n",
    "heat_layer = gmaps.heatmap_layer(locations, weights = (growth + .6), \n",
    "                                 dissipating = False, max_intensity = 2.7,\n",
    "                                 point_radius = 1)\n",
    "\n",
    "fig.add_layer(heat_layer)\n",
    "\n",
    "fig"
   ]
  },
  {
   "cell_type": "code",
   "execution_count": null,
   "metadata": {},
   "outputs": [],
   "source": [
    "#positive cities; Seattle, Portland, Miami, Virginia Beach, Lexington, Minneapolis, St. Paul \n",
    "#negative cities; San Jose, Honolulu, Boulder"
   ]
  },
  {
   "cell_type": "code",
   "execution_count": null,
   "metadata": {},
   "outputs": [],
   "source": [
    "# End of code for Question 3: population growth"
   ]
  },
  {
   "cell_type": "markdown",
   "metadata": {},
   "source": [
    "# Question 4:  Do cities with a UGB have a higher population density than U.S. cities?\n"
   ]
  },
  {
   "cell_type": "markdown",
   "metadata": {},
   "source": []
  },
  {
   "cell_type": "code",
   "execution_count": null,
   "metadata": {},
   "outputs": [],
   "source": [
    "#format top 100 cities dataframe\n",
    "populationcsv = \"../Data/top_100clean.csv\"\n",
    "population = pd.read_csv(populationcsv)\n",
    "population = population.rename(columns = {\"Persons by km2\": \"Persons per km2\", \"2010 Census\": \"Census Population\"})\n",
    "population.set_index('City', inplace=True)\n",
    "population"
   ]
  },
  {
   "cell_type": "code",
   "execution_count": null,
   "metadata": {},
   "outputs": [],
   "source": [
    "#ugb dataframe\n",
    "ugb = population.loc[population[\"UGB \"] == \"Yes\", :]\n",
    "ugb"
   ]
  },
  {
   "cell_type": "code",
   "execution_count": null,
   "metadata": {},
   "outputs": [],
   "source": [
    "#non-ugb cities dataframe\n",
    "non_ugb = population.loc[population[\"UGB \"] == \"No\", :]"
   ]
  },
  {
   "cell_type": "code",
   "execution_count": null,
   "metadata": {},
   "outputs": [],
   "source": [
    "#set density variables\n",
    "non_ugb_density = non_ugb[\"Persons per km2\"]\n",
    "density = population[\"Persons per km2\"]\n",
    "ugb_density = ugb[\"Persons per km2\"]"
   ]
  },
  {
   "cell_type": "code",
   "execution_count": null,
   "metadata": {},
   "outputs": [],
   "source": [
    "#summary statistics\n",
    "ugb_density_mean = ugb_density.mean()\n",
    "density_mean = density.mean()\n",
    "ugb_density_median = ugb_density.median()\n",
    "density_median = density.median()\n",
    "min_dens = density.min()\n",
    "max_dens = density.max()\n",
    "min_ugb = ugb_density.min()\n",
    "max_ugb = ugb_density.max()"
   ]
  },
  {
   "cell_type": "code",
   "execution_count": null,
   "metadata": {},
   "outputs": [],
   "source": [
    "#summary statistics dataframe\n",
    "density_summary = pd.DataFrame({'Mean Density':[density_mean], 'Median Density': [density_median], \"Minimun Density\": [min_dens],\n",
    "                                \"Maximum Density\": [max_dens]})\n",
    "density_summary\n"
   ]
  },
  {
   "cell_type": "code",
   "execution_count": null,
   "metadata": {},
   "outputs": [],
   "source": [
    "#summary stats for UGB cities\n",
    "ugb_density_summary = pd.DataFrame({'UGB Mean Density':[ugb_density_mean], 'UGB Median Density': [ugb_density_median], \n",
    "                                    \"UGB Minimun Density\": [min_ugb], \"UGB Maximum Density\": [max_ugb]})\n",
    "ugb_density_summary"
   ]
  },
  {
   "cell_type": "code",
   "execution_count": null,
   "metadata": {},
   "outputs": [],
   "source": [
    "#independent t-test of population density\n",
    "stats.ttest_ind(non_ugb_density, ugb_density, equal_var=False)"
   ]
  },
  {
   "cell_type": "code",
   "execution_count": null,
   "metadata": {},
   "outputs": [],
   "source": [
    "#comfigure gmaps\n",
    "gmaps.configure(api_key=api_key)"
   ]
  },
  {
   "cell_type": "code",
   "execution_count": null,
   "metadata": {},
   "outputs": [],
   "source": [
    "#change data types to float\n",
    "locations = population[[\"Latitude\", \"Longitude\"]].astype(float)\n",
    "ugb_locations =ugb_df[[\"Latitude\", \"Longitude\"]].astype(float)\n",
    "density= population[\"Persons per km2\"].astype(float)\n",
    "ugb_density = ugb_df[\"Persons per km2\"].astype(float)"
   ]
  },
  {
   "cell_type": "code",
   "execution_count": null,
   "metadata": {},
   "outputs": [],
   "source": [
    "#heatmap layer\n",
    "fig = gmaps.figure()\n",
    "\n",
    "heat_layer = gmaps.heatmap_layer(locations, weights=density, \n",
    "                                 dissipating=False, max_intensity=5000,\n",
    "                                 point_radius = 1)\n",
    "\n",
    "fig.add_layer(heat_layer)"
   ]
  },
  {
   "cell_type": "code",
   "execution_count": null,
   "metadata": {},
   "outputs": [],
   "source": [
    "#add ugb markers\n",
    "ugb_layer = gmaps.symbol_layer(\n",
    "    ugb_locations, fill_color='rgba(0, 150, 0, 0.4)',\n",
    "    stroke_color='rgba(0, 0, 150, 0.4)', scale=4)\n",
    "    \n",
    "fig = gmaps.figure()\n",
    "fig.add_layer(ugb_layer)"
   ]
  },
  {
   "cell_type": "code",
   "execution_count": null,
   "metadata": {},
   "outputs": [],
   "source": [
    "#add layers and show figure\n",
    "fig = gmaps.figure()\n",
    "fig.add_layer(heat_layer)\n",
    "fig.add_layer(ugb_layer)\n",
    "\n",
    "fig"
   ]
  },
  {
   "cell_type": "code",
   "execution_count": null,
   "metadata": {},
   "outputs": [],
   "source": [
    "#create boxplots\n",
    "data = [density, ugb_density]\n",
    "fig1, ax1 = plt.subplots()\n",
    "ax1.set_title('Population Density for Top 100 US Cities vs UGB Cities')\n",
    "ax1.set_ylabel('Persons per km2')\n",
    "ax1.boxplot(data)\n",
    "ax1.set_xticklabels(['Top 100 Cities', 'UGB Cities'])\n",
    "top = 5000\n",
    "bottom = 0\n",
    "ax1.set_ylim(bottom, top)\n",
    "plt.show()\n",
    "plt.savefig(\"../Images/PopD_boxplot.png\")\n",
    "plt.show()"
   ]
  },
  {
   "cell_type": "code",
   "execution_count": null,
   "metadata": {},
   "outputs": [],
   "source": [
    "#Top 100 cities quartiles and outliers\n",
    "quartiles = density.quantile([.25,.5,.75])\n",
    "lowerq = quartiles[0.25]\n",
    "upperq = quartiles[0.75]\n",
    "iqr = upperq-lowerq\n",
    "\n",
    "print(f\"The lower quartile of population density is: {lowerq}\")\n",
    "print(f\"The upper quartile of population density is: {upperq}\")\n",
    "print(f\"The interquartile range of population density is: {iqr}\")\n",
    "print(f\"The the median of population density is: {quartiles[0.5]} \")\n",
    "\n",
    "lower_bound = lowerq - (1.5*iqr)\n",
    "upper_bound = upperq + (1.5*iqr)\n",
    "print(f\"Values below {lower_bound} could be outliers.\")\n",
    "print(f\"Values above {upper_bound} could be outliers.\")"
   ]
  },
  {
   "cell_type": "code",
   "execution_count": null,
   "metadata": {},
   "outputs": [],
   "source": [
    "#UGB cities quartiles and outliers\n",
    "quartiles = ugb_density.quantile([.25,.5,.75])\n",
    "lowerq = quartiles[0.25]\n",
    "upperq = quartiles[0.75]\n",
    "iqr = upperq-lowerq\n",
    "\n",
    "print(f\"The lower quartile of UGB population density is: {lowerq}\")\n",
    "print(f\"The upper quartile of UGB population density is: {upperq}\")\n",
    "print(f\"The interquartile range of UGB population density is: {iqr}\")\n",
    "print(f\"The the median of UGB population density is: {quartiles[0.5]} \")\n",
    "\n",
    "lower_bound = lowerq - (1.5*iqr)\n",
    "upper_bound = upperq + (1.5*iqr)\n",
    "print(f\"Values below {lower_bound} could be outliers.\")\n",
    "print(f\"Values above {upper_bound} could be outliers.\")"
   ]
  },
  {
   "cell_type": "code",
   "execution_count": null,
   "metadata": {},
   "outputs": [],
   "source": [
    "# End of code for Question 4: population density"
   ]
  }
 ],
 "metadata": {
  "kernelspec": {
   "display_name": "Python 3",
   "language": "python",
   "name": "python3"
  },
  "language_info": {
   "codemirror_mode": {
    "name": "ipython",
    "version": 3
   },
   "file_extension": ".py",
   "mimetype": "text/x-python",
   "name": "python",
   "nbconvert_exporter": "python",
   "pygments_lexer": "ipython3",
   "version": "3.7.4"
  }
 },
 "nbformat": 4,
 "nbformat_minor": 4
}
