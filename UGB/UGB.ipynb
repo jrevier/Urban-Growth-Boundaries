{
 "cells": [
  {
   "cell_type": "markdown",
   "metadata": {},
   "source": [
    "# Urban Growth Boundary (UGB)"
   ]
  },
  {
   "cell_type": "code",
   "execution_count": null,
   "metadata": {},
   "outputs": [],
   "source": [
    "#import dependencies\n",
    "import matplotlib.pyplot as plt\n",
    "import pandas as pd\n",
    "import numpy as np\n",
    "import requests\n",
    "import time\n",
    "import scipy.stats as stats\n",
    "from scipy.stats import linregress\n",
    "import gmaps\n",
    "#import API keys: \n",
    "from config import api_key\n",
    "\n",
    "#save data in a CSV\n",
    "output_file = \"output_data/ugb.csv\"\n"
   ]
  },
  {
   "cell_type": "code",
   "execution_count": null,
   "metadata": {},
   "outputs": [],
   "source": [
    "# Start of code for Question 1: housing types"
   ]
  },
  {
   "cell_type": "code",
   "execution_count": null,
   "metadata": {},
   "outputs": [],
   "source": [
    "# End of code for Question 1: housing types"
   ]
  },
  {
   "cell_type": "code",
   "execution_count": null,
   "metadata": {},
   "outputs": [],
   "source": [
    "# Start of code for Question 2: public transportation"
   ]
  },
  {
   "cell_type": "code",
   "execution_count": null,
   "metadata": {},
   "outputs": [],
   "source": [
    "# End of code for Question 2: public transportation"
   ]
  },
  {
   "cell_type": "code",
   "execution_count": null,
   "metadata": {},
   "outputs": [],
   "source": [
    "# Start of code for Question 3: population growth"
   ]
  },
  {
   "cell_type": "code",
   "execution_count": null,
   "metadata": {},
   "outputs": [],
   "source": [
    "# End of code for Question 3: population growth"
   ]
  },
  {
   "cell_type": "markdown",
   "metadata": {},
   "source": [
    "# Question 4:  Do cities with a UGB have a higher population density than U.S. cities?\n"
   ]
  },
  {
   "cell_type": "markdown",
   "metadata": {},
   "source": []
  },
  {
   "cell_type": "code",
   "execution_count": null,
   "metadata": {},
   "outputs": [],
   "source": [
    "#format top 100 cities dataframe\n",
    "populationcsv = \"../Data/top_100clean.csv\"\n",
    "population = pd.read_csv(populationcsv)\n",
    "population = population.rename(columns = {\"Persons by km2\": \"Persons per km2\", \"2010 Census\": \"Census Population\"})\n",
    "population.set_index('City', inplace=True)\n",
    "population"
   ]
  },
  {
   "cell_type": "code",
   "execution_count": null,
   "metadata": {},
   "outputs": [],
   "source": [
    "#ugb dataframe\n",
    "ugb = population.loc[population[\"UGB \"] == \"Yes\", :]\n",
    "ugb"
   ]
  },
  {
   "cell_type": "code",
   "execution_count": null,
   "metadata": {},
   "outputs": [],
   "source": [
    "#non-ugb cities dataframe\n",
    "non_ugb = population.loc[population[\"UGB \"] == \"No\", :]"
   ]
  },
  {
   "cell_type": "code",
   "execution_count": null,
   "metadata": {},
   "outputs": [],
   "source": [
    "#set density variables\n",
    "non_ugb_density = non_ugb[\"Persons per km2\"]\n",
    "density = population[\"Persons per km2\"]\n",
    "ugb_density = ugb[\"Persons per km2\"]"
   ]
  },
  {
   "cell_type": "code",
   "execution_count": null,
   "metadata": {},
   "outputs": [],
   "source": [
    "#summary statistics\n",
    "ugb_density_mean = ugb_density.mean()\n",
    "density_mean = density.mean()\n",
    "ugb_density_median = ugb_density.median()\n",
    "density_median = density.median()\n",
    "min_dens = density.min()\n",
    "max_dens = density.max()\n",
    "min_ugb = ugb_density.min()\n",
    "max_ugb = ugb_density.max()"
   ]
  },
  {
   "cell_type": "code",
   "execution_count": null,
   "metadata": {},
   "outputs": [],
   "source": [
    "#summary statistics dataframe\n",
    "density_summary = pd.DataFrame({'Mean Density':[density_mean], 'Median Density': [density_median], \"Minimun Density\": [min_dens],\n",
    "                                \"Maximum Density\": [max_dens]})\n",
    "density_summary\n"
   ]
  },
  {
   "cell_type": "code",
   "execution_count": null,
   "metadata": {},
   "outputs": [],
   "source": [
    "#summary stats for UGB cities\n",
    "ugb_density_summary = pd.DataFrame({'UGB Mean Density':[ugb_density_mean], 'UGB Median Density': [ugb_density_median], \n",
    "                                    \"UGB Minimun Density\": [min_ugb], \"UGB Maximum Density\": [max_ugb]})\n",
    "ugb_density_summary"
   ]
  },
  {
   "cell_type": "code",
   "execution_count": null,
   "metadata": {},
   "outputs": [],
   "source": [
    "#independent t-test of population density\n",
    "stats.ttest_ind(non_ugb_density, ugb_density, equal_var=False)"
   ]
  },
  {
   "cell_type": "code",
   "execution_count": null,
   "metadata": {},
   "outputs": [],
   "source": [
    "#comfigure gmaps\n",
    "gmaps.configure(api_key=api_key)"
   ]
  },
  {
   "cell_type": "code",
   "execution_count": null,
   "metadata": {},
   "outputs": [],
   "source": [
    "#change data types to float\n",
    "locations = population[[\"Latitude\", \"Longitude\"]].astype(float)\n",
    "ugb_locations =ugb_df[[\"Latitude\", \"Longitude\"]].astype(float)\n",
    "density= population[\"Persons per km2\"].astype(float)\n",
    "ugb_density = ugb_df[\"Persons per km2\"].astype(float)"
   ]
  },
  {
   "cell_type": "code",
   "execution_count": null,
   "metadata": {},
   "outputs": [],
   "source": [
    "#heatmap layer\n",
    "fig = gmaps.figure()\n",
    "\n",
    "heat_layer = gmaps.heatmap_layer(locations, weights=density, \n",
    "                                 dissipating=False, max_intensity=5000,\n",
    "                                 point_radius = 1)\n",
    "\n",
    "fig.add_layer(heat_layer)"
   ]
  },
  {
   "cell_type": "code",
   "execution_count": null,
   "metadata": {},
   "outputs": [],
   "source": [
    "#add ugb markers\n",
    "ugb_layer = gmaps.symbol_layer(\n",
    "    ugb_locations, fill_color='rgba(0, 150, 0, 0.4)',\n",
    "    stroke_color='rgba(0, 0, 150, 0.4)', scale=4)\n",
    "    \n",
    "fig = gmaps.figure()\n",
    "fig.add_layer(ugb_layer)"
   ]
  },
  {
   "cell_type": "code",
   "execution_count": null,
   "metadata": {},
   "outputs": [],
   "source": [
    "#add layers and show figure\n",
    "fig = gmaps.figure()\n",
    "fig.add_layer(heat_layer)\n",
    "fig.add_layer(ugb_layer)\n",
    "\n",
    "fig"
   ]
  },
  {
   "cell_type": "code",
   "execution_count": null,
   "metadata": {},
   "outputs": [],
   "source": [
    "#create boxplots\n",
    "data = [density, ugb_density]\n",
    "fig1, ax1 = plt.subplots()\n",
    "ax1.set_title('Population Density for Top 100 US Cities vs UGB Cities')\n",
    "ax1.set_ylabel('Persons per km2')\n",
    "ax1.boxplot(data)\n",
    "ax1.set_xticklabels(['Top 100 Cities', 'UGB Cities'])\n",
    "top = 5000\n",
    "bottom = 0\n",
    "ax1.set_ylim(bottom, top)\n",
    "plt.show()\n",
    "plt.savefig(\"../Images/PopD_boxplot.png\")\n",
    "plt.show()"
   ]
  },
  {
   "cell_type": "code",
   "execution_count": null,
   "metadata": {},
   "outputs": [],
   "source": [
    "#Top 100 cities quartiles and outliers\n",
    "quartiles = density.quantile([.25,.5,.75])\n",
    "lowerq = quartiles[0.25]\n",
    "upperq = quartiles[0.75]\n",
    "iqr = upperq-lowerq\n",
    "\n",
    "print(f\"The lower quartile of population density is: {lowerq}\")\n",
    "print(f\"The upper quartile of population density is: {upperq}\")\n",
    "print(f\"The interquartile range of population density is: {iqr}\")\n",
    "print(f\"The the median of population density is: {quartiles[0.5]} \")\n",
    "\n",
    "lower_bound = lowerq - (1.5*iqr)\n",
    "upper_bound = upperq + (1.5*iqr)\n",
    "print(f\"Values below {lower_bound} could be outliers.\")\n",
    "print(f\"Values above {upper_bound} could be outliers.\")"
   ]
  },
  {
   "cell_type": "code",
   "execution_count": null,
   "metadata": {},
   "outputs": [],
   "source": [
    "#UGB cities quartiles and outliers\n",
    "quartiles = ugb_density.quantile([.25,.5,.75])\n",
    "lowerq = quartiles[0.25]\n",
    "upperq = quartiles[0.75]\n",
    "iqr = upperq-lowerq\n",
    "\n",
    "print(f\"The lower quartile of UGB population density is: {lowerq}\")\n",
    "print(f\"The upper quartile of UGB population density is: {upperq}\")\n",
    "print(f\"The interquartile range of UGB population density is: {iqr}\")\n",
    "print(f\"The the median of UGB population density is: {quartiles[0.5]} \")\n",
    "\n",
    "lower_bound = lowerq - (1.5*iqr)\n",
    "upper_bound = upperq + (1.5*iqr)\n",
    "print(f\"Values below {lower_bound} could be outliers.\")\n",
    "print(f\"Values above {upper_bound} could be outliers.\")"
   ]
  },
  {
   "cell_type": "code",
   "execution_count": null,
   "metadata": {},
   "outputs": [],
   "source": [
    "# End of code for Question 4: population density"
   ]
  }
 ],
 "metadata": {
  "kernelspec": {
   "display_name": "Python 3",
   "language": "python",
   "name": "python3"
  },
  "language_info": {
   "codemirror_mode": {
    "name": "ipython",
    "version": 3
   },
   "file_extension": ".py",
   "mimetype": "text/x-python",
   "name": "python",
   "nbconvert_exporter": "python",
   "pygments_lexer": "ipython3",
   "version": "3.6.9"
  }
 },
 "nbformat": 4,
 "nbformat_minor": 4
}
