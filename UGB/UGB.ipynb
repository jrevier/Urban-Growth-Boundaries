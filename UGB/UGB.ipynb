{
 "cells": [
  {
   "cell_type": "markdown",
   "metadata": {},
   "source": [
    "# Urban Growth Boundary (UGB)"
   ]
  },
  {
   "cell_type": "code",
   "execution_count": 16,
   "metadata": {},
   "outputs": [],
   "source": [
    "#import dependencies\n",
    "import matplotlib.pyplot as plt\n",
    "import pandas as pd\n",
    "import numpy as np\n",
    "import requests\n",
    "import time\n",
    "from scipy.stats import linregress\n",
    "import gmaps\n",
    "#import API keys: \n",
    "from config import api_key\n",
    "\n",
    "#save data in a CSV\n",
    "output_file = \"output_data/ugb.csv\"\n"
   ]
  },
  {
   "cell_type": "code",
   "execution_count": null,
   "metadata": {},
   "outputs": [],
   "source": [
    "# Start of code for Question 1: housing types"
   ]
  },
  {
   "cell_type": "code",
   "execution_count": null,
   "metadata": {},
   "outputs": [],
   "source": [
    "# End of code for Question 1: housing types"
   ]
  },
  {
   "cell_type": "code",
   "execution_count": null,
   "metadata": {},
   "outputs": [],
   "source": [
    "# Start of code for Question 2: public transportation"
   ]
  },
  {
   "cell_type": "code",
   "execution_count": null,
   "metadata": {},
   "outputs": [],
   "source": [
    "# End of code for Question 2: public transportation"
   ]
  },
  {
   "cell_type": "code",
   "execution_count": null,
   "metadata": {},
   "outputs": [],
   "source": [
    "# Start of code for Question 3: population growth"
   ]
  },
  {
   "cell_type": "code",
   "execution_count": null,
   "metadata": {},
   "outputs": [],
   "source": [
    "# End of code for Question 3: population growth"
   ]
  },
  {
   "cell_type": "code",
   "execution_count": null,
   "metadata": {},
   "outputs": [],
   "source": [
    "# Start of code for Question 4: population density"
   ]
  },
  {
   "cell_type": "code",
   "execution_count": 27,
   "metadata": {},
   "outputs": [
    {
     "data": {
      "text/html": [
       "<div>\n",
       "<style scoped>\n",
       "    .dataframe tbody tr th:only-of-type {\n",
       "        vertical-align: middle;\n",
       "    }\n",
       "\n",
       "    .dataframe tbody tr th {\n",
       "        vertical-align: top;\n",
       "    }\n",
       "\n",
       "    .dataframe thead th {\n",
       "        text-align: right;\n",
       "    }\n",
       "</style>\n",
       "<table border=\"1\" class=\"dataframe\">\n",
       "  <thead>\n",
       "    <tr style=\"text-align: right;\">\n",
       "      <th></th>\n",
       "      <th>Rank</th>\n",
       "      <th>Census Population</th>\n",
       "      <th>State</th>\n",
       "      <th>Persons per km2</th>\n",
       "      <th>Latitude</th>\n",
       "      <th>Longitude</th>\n",
       "    </tr>\n",
       "    <tr>\n",
       "      <th>City</th>\n",
       "      <th></th>\n",
       "      <th></th>\n",
       "      <th></th>\n",
       "      <th></th>\n",
       "      <th></th>\n",
       "      <th></th>\n",
       "    </tr>\n",
       "  </thead>\n",
       "  <tbody>\n",
       "    <tr>\n",
       "      <th>New York City</th>\n",
       "      <td>1</td>\n",
       "      <td>8175133</td>\n",
       "      <td>NY</td>\n",
       "      <td>13401.8</td>\n",
       "      <td>40.6943</td>\n",
       "      <td>-73.9249</td>\n",
       "    </tr>\n",
       "    <tr>\n",
       "      <th>Los Angeles</th>\n",
       "      <td>2</td>\n",
       "      <td>3792621</td>\n",
       "      <td>CA</td>\n",
       "      <td>3295.0</td>\n",
       "      <td>34.1139</td>\n",
       "      <td>-118.4068</td>\n",
       "    </tr>\n",
       "    <tr>\n",
       "      <th>Chicago</th>\n",
       "      <td>3</td>\n",
       "      <td>2695598</td>\n",
       "      <td>IL</td>\n",
       "      <td>4612.0</td>\n",
       "      <td>41.8373</td>\n",
       "      <td>-87.6862</td>\n",
       "    </tr>\n",
       "    <tr>\n",
       "      <th>Houston</th>\n",
       "      <td>4</td>\n",
       "      <td>2099451</td>\n",
       "      <td>TX</td>\n",
       "      <td>1401.0</td>\n",
       "      <td>29.7869</td>\n",
       "      <td>-95.3905</td>\n",
       "    </tr>\n",
       "    <tr>\n",
       "      <th>Phoenix</th>\n",
       "      <td>5</td>\n",
       "      <td>1445632</td>\n",
       "      <td>AZ</td>\n",
       "      <td>1212.0</td>\n",
       "      <td>33.5722</td>\n",
       "      <td>-112.0891</td>\n",
       "    </tr>\n",
       "    <tr>\n",
       "      <th>...</th>\n",
       "      <td>...</td>\n",
       "      <td>...</td>\n",
       "      <td>...</td>\n",
       "      <td>...</td>\n",
       "      <td>...</td>\n",
       "      <td>...</td>\n",
       "    </tr>\n",
       "    <tr>\n",
       "      <th>Fremont</th>\n",
       "      <td>96</td>\n",
       "      <td>214089</td>\n",
       "      <td>CA</td>\n",
       "      <td>1171.0</td>\n",
       "      <td>37.5265</td>\n",
       "      <td>-121.9852</td>\n",
       "    </tr>\n",
       "    <tr>\n",
       "      <th>Boise City</th>\n",
       "      <td>97</td>\n",
       "      <td>205671</td>\n",
       "      <td>ID</td>\n",
       "      <td>1045.0</td>\n",
       "      <td>43.6007</td>\n",
       "      <td>-116.2312</td>\n",
       "    </tr>\n",
       "    <tr>\n",
       "      <th>Richmond</th>\n",
       "      <td>98</td>\n",
       "      <td>204214</td>\n",
       "      <td>VA</td>\n",
       "      <td>1463.0</td>\n",
       "      <td>37.5295</td>\n",
       "      <td>-77.4756</td>\n",
       "    </tr>\n",
       "    <tr>\n",
       "      <th>Baton Rouge</th>\n",
       "      <td>99</td>\n",
       "      <td>229493</td>\n",
       "      <td>LA</td>\n",
       "      <td>1006.0</td>\n",
       "      <td>30.4419</td>\n",
       "      <td>-91.1310</td>\n",
       "    </tr>\n",
       "    <tr>\n",
       "      <th>Spokane</th>\n",
       "      <td>100</td>\n",
       "      <td>208916</td>\n",
       "      <td>WA</td>\n",
       "      <td>1218.0</td>\n",
       "      <td>47.6671</td>\n",
       "      <td>-117.4330</td>\n",
       "    </tr>\n",
       "  </tbody>\n",
       "</table>\n",
       "<p>100 rows × 6 columns</p>\n",
       "</div>"
      ],
      "text/plain": [
       "               Rank  Census Population State  Persons per km2  Latitude  \\\n",
       "City                                                                      \n",
       "New York City     1            8175133    NY          13401.8   40.6943   \n",
       "Los Angeles       2            3792621    CA           3295.0   34.1139   \n",
       "Chicago           3            2695598    IL           4612.0   41.8373   \n",
       "Houston           4            2099451    TX           1401.0   29.7869   \n",
       "Phoenix           5            1445632    AZ           1212.0   33.5722   \n",
       "...             ...                ...   ...              ...       ...   \n",
       "Fremont          96             214089    CA           1171.0   37.5265   \n",
       "Boise City       97             205671    ID           1045.0   43.6007   \n",
       "Richmond         98             204214    VA           1463.0   37.5295   \n",
       "Baton Rouge      99             229493    LA           1006.0   30.4419   \n",
       "Spokane         100             208916    WA           1218.0   47.6671   \n",
       "\n",
       "               Longitude  \n",
       "City                      \n",
       "New York City   -73.9249  \n",
       "Los Angeles    -118.4068  \n",
       "Chicago         -87.6862  \n",
       "Houston         -95.3905  \n",
       "Phoenix        -112.0891  \n",
       "...                  ...  \n",
       "Fremont        -121.9852  \n",
       "Boise City     -116.2312  \n",
       "Richmond        -77.4756  \n",
       "Baton Rouge     -91.1310  \n",
       "Spokane        -117.4330  \n",
       "\n",
       "[100 rows x 6 columns]"
      ]
     },
     "execution_count": 27,
     "metadata": {},
     "output_type": "execute_result"
    }
   ],
   "source": [
    "#format top 100 cities dataframe\n",
    "populationcsv = \"../UGB/top_100clean.csv\"\n",
    "population = pd.read_csv(populationcsv)\n",
    "population = population.rename(columns = {\"Persons by km2\": \"Persons per km2\", \"2010 Census\": \"Census Population\"})\n",
    "population.set_index('City', inplace=True)\n",
    "population"
   ]
  },
  {
   "cell_type": "code",
   "execution_count": 25,
   "metadata": {},
   "outputs": [
    {
     "data": {
      "text/html": [
       "<div>\n",
       "<style scoped>\n",
       "    .dataframe tbody tr th:only-of-type {\n",
       "        vertical-align: middle;\n",
       "    }\n",
       "\n",
       "    .dataframe tbody tr th {\n",
       "        vertical-align: top;\n",
       "    }\n",
       "\n",
       "    .dataframe thead th {\n",
       "        text-align: right;\n",
       "    }\n",
       "</style>\n",
       "<table border=\"1\" class=\"dataframe\">\n",
       "  <thead>\n",
       "    <tr style=\"text-align: right;\">\n",
       "      <th></th>\n",
       "      <th>Census Population</th>\n",
       "      <th>State</th>\n",
       "      <th>Persons per km2</th>\n",
       "      <th>Latitude</th>\n",
       "      <th>Longitude</th>\n",
       "    </tr>\n",
       "    <tr>\n",
       "      <th>City</th>\n",
       "      <th></th>\n",
       "      <th></th>\n",
       "      <th></th>\n",
       "      <th></th>\n",
       "      <th></th>\n",
       "    </tr>\n",
       "  </thead>\n",
       "  <tbody>\n",
       "    <tr>\n",
       "      <th>Lexington</th>\n",
       "      <td>295803</td>\n",
       "      <td>KY</td>\n",
       "      <td>438</td>\n",
       "      <td>38.0423</td>\n",
       "      <td>-84.4587</td>\n",
       "    </tr>\n",
       "    <tr>\n",
       "      <th>Seattle</th>\n",
       "      <td>608660</td>\n",
       "      <td>WA</td>\n",
       "      <td>3336</td>\n",
       "      <td>47.6211</td>\n",
       "      <td>-122.3244</td>\n",
       "    </tr>\n",
       "    <tr>\n",
       "      <th>St. Paul</th>\n",
       "      <td>285068</td>\n",
       "      <td>MN</td>\n",
       "      <td>2277</td>\n",
       "      <td>44.9477</td>\n",
       "      <td>-93.1040</td>\n",
       "    </tr>\n",
       "    <tr>\n",
       "      <th>Minneapolis</th>\n",
       "      <td>382578</td>\n",
       "      <td>MN</td>\n",
       "      <td>3019</td>\n",
       "      <td>44.9635</td>\n",
       "      <td>-93.2678</td>\n",
       "    </tr>\n",
       "    <tr>\n",
       "      <th>Virginia Beach</th>\n",
       "      <td>437994</td>\n",
       "      <td>VA</td>\n",
       "      <td>710</td>\n",
       "      <td>36.7335</td>\n",
       "      <td>-76.0435</td>\n",
       "    </tr>\n",
       "    <tr>\n",
       "      <th>San Jose</th>\n",
       "      <td>945942</td>\n",
       "      <td>CA</td>\n",
       "      <td>2257</td>\n",
       "      <td>37.3021</td>\n",
       "      <td>-121.8489</td>\n",
       "    </tr>\n",
       "    <tr>\n",
       "      <th>Honolulu</th>\n",
       "      <td>337256</td>\n",
       "      <td>HI</td>\n",
       "      <td>2234</td>\n",
       "      <td>21.3294</td>\n",
       "      <td>-157.8460</td>\n",
       "    </tr>\n",
       "    <tr>\n",
       "      <th>Portland</th>\n",
       "      <td>583776</td>\n",
       "      <td>OR</td>\n",
       "      <td>1874</td>\n",
       "      <td>45.5371</td>\n",
       "      <td>-122.6500</td>\n",
       "    </tr>\n",
       "    <tr>\n",
       "      <th>Miami</th>\n",
       "      <td>399457</td>\n",
       "      <td>FL</td>\n",
       "      <td>4969</td>\n",
       "      <td>25.7839</td>\n",
       "      <td>-80.2102</td>\n",
       "    </tr>\n",
       "  </tbody>\n",
       "</table>\n",
       "</div>"
      ],
      "text/plain": [
       "                Census Population State  Persons per km2  Latitude  Longitude\n",
       "City                                                                         \n",
       "Lexington                  295803    KY              438   38.0423   -84.4587\n",
       "Seattle                    608660    WA             3336   47.6211  -122.3244\n",
       "St. Paul                   285068    MN             2277   44.9477   -93.1040\n",
       "Minneapolis                382578    MN             3019   44.9635   -93.2678\n",
       "Virginia Beach             437994    VA              710   36.7335   -76.0435\n",
       "San Jose                   945942    CA             2257   37.3021  -121.8489\n",
       "Honolulu                   337256    HI             2234   21.3294  -157.8460\n",
       "Portland                   583776    OR             1874   45.5371  -122.6500\n",
       "Miami                      399457    FL             4969   25.7839   -80.2102"
      ]
     },
     "execution_count": 25,
     "metadata": {},
     "output_type": "execute_result"
    }
   ],
   "source": [
    "#format ugb dataframe\n",
    "ugb_cities = \"../UGB/ugb_cities.csv\"\n",
    "ugb_df = pd.read_csv(ugb_cities)\n",
    "ugb_df = ugb_df.rename(columns = {\"Persons per km\": \"Persons per km2\", \"Population\": \"Census Population\"})\n",
    "ugb_df.set_index('City', inplace=True)\n",
    "ugb_df"
   ]
  },
  {
   "cell_type": "code",
   "execution_count": 19,
   "metadata": {},
   "outputs": [],
   "source": [
    "#set density variables\n",
    "density = population[\"Persons per km2\"]\n",
    "ugb_density = ugb_df[\"Persons per km2\"]"
   ]
  },
  {
   "cell_type": "code",
   "execution_count": 20,
   "metadata": {},
   "outputs": [],
   "source": [
    "#summary statistics\n",
    "ugb_density_mean = ugb_density.mean()\n",
    "density_mean = density.mean()\n",
    "ugb_density_median = ugb_density.median()\n",
    "density_median = density.median()\n",
    "min_dens = density.min()\n",
    "max_dens = density.max()\n",
    "min_ugb = ugb_density.min()\n",
    "max_ugb = ugb_density.max()"
   ]
  },
  {
   "cell_type": "code",
   "execution_count": 21,
   "metadata": {},
   "outputs": [
    {
     "data": {
      "text/html": [
       "<div>\n",
       "<style scoped>\n",
       "    .dataframe tbody tr th:only-of-type {\n",
       "        vertical-align: middle;\n",
       "    }\n",
       "\n",
       "    .dataframe tbody tr th {\n",
       "        vertical-align: top;\n",
       "    }\n",
       "\n",
       "    .dataframe thead th {\n",
       "        text-align: right;\n",
       "    }\n",
       "</style>\n",
       "<table border=\"1\" class=\"dataframe\">\n",
       "  <thead>\n",
       "    <tr style=\"text-align: right;\">\n",
       "      <th></th>\n",
       "      <th>Mean Density</th>\n",
       "      <th>Median Density</th>\n",
       "      <th>Minimun Density</th>\n",
       "      <th>Maximum Density</th>\n",
       "    </tr>\n",
       "  </thead>\n",
       "  <tbody>\n",
       "    <tr>\n",
       "      <th>0</th>\n",
       "      <td>1915.488</td>\n",
       "      <td>1386.0</td>\n",
       "      <td>66.0</td>\n",
       "      <td>13401.8</td>\n",
       "    </tr>\n",
       "  </tbody>\n",
       "</table>\n",
       "</div>"
      ],
      "text/plain": [
       "   Mean Density  Median Density  Minimun Density  Maximum Density\n",
       "0      1915.488          1386.0             66.0          13401.8"
      ]
     },
     "execution_count": 21,
     "metadata": {},
     "output_type": "execute_result"
    }
   ],
   "source": [
    "#summary statistics dataframe\n",
    "density_summary = pd.DataFrame({'Mean Density':[density_mean], 'Median Density': [density_median], \"Minimun Density\": [min_dens],\n",
    "                                \"Maximum Density\": [max_dens]})\n",
    "density_summary\n"
   ]
  },
  {
   "cell_type": "code",
   "execution_count": 22,
   "metadata": {},
   "outputs": [
    {
     "data": {
      "text/html": [
       "<div>\n",
       "<style scoped>\n",
       "    .dataframe tbody tr th:only-of-type {\n",
       "        vertical-align: middle;\n",
       "    }\n",
       "\n",
       "    .dataframe tbody tr th {\n",
       "        vertical-align: top;\n",
       "    }\n",
       "\n",
       "    .dataframe thead th {\n",
       "        text-align: right;\n",
       "    }\n",
       "</style>\n",
       "<table border=\"1\" class=\"dataframe\">\n",
       "  <thead>\n",
       "    <tr style=\"text-align: right;\">\n",
       "      <th></th>\n",
       "      <th>UGB Mean Density</th>\n",
       "      <th>UGB Median Density</th>\n",
       "      <th>UGB Minimun Density</th>\n",
       "      <th>UGB Maximum Density</th>\n",
       "    </tr>\n",
       "  </thead>\n",
       "  <tbody>\n",
       "    <tr>\n",
       "      <th>0</th>\n",
       "      <td>2346.0</td>\n",
       "      <td>2257.0</td>\n",
       "      <td>438</td>\n",
       "      <td>4969</td>\n",
       "    </tr>\n",
       "  </tbody>\n",
       "</table>\n",
       "</div>"
      ],
      "text/plain": [
       "   UGB Mean Density  UGB Median Density  UGB Minimun Density  \\\n",
       "0            2346.0              2257.0                  438   \n",
       "\n",
       "   UGB Maximum Density  \n",
       "0                 4969  "
      ]
     },
     "execution_count": 22,
     "metadata": {},
     "output_type": "execute_result"
    }
   ],
   "source": [
    "#summary stats for UGB cities\n",
    "ugb_density_summary = pd.DataFrame({'UGB Mean Density':[ugb_density_mean], 'UGB Median Density': [ugb_density_median], \n",
    "                                    \"UGB Minimun Density\": [min_ugb], \"UGB Maximum Density\": [max_ugb]})\n",
    "ugb_density_summary"
   ]
  },
  {
   "cell_type": "code",
   "execution_count": 23,
   "metadata": {},
   "outputs": [],
   "source": [
    "#comfigure gmaps\n",
    "gmaps.configure(api_key=api_key)"
   ]
  },
  {
   "cell_type": "code",
   "execution_count": 28,
   "metadata": {},
   "outputs": [],
   "source": [
    "#change data types to float\n",
    "locations = population[[\"Latitude\", \"Longitude\"]].astype(float)\n",
    "ugb_locations =ugb_df[[\"Latitude\", \"Longitude\"]].astype(float)\n",
    "density= population[\"Persons per km2\"].astype(float)\n",
    "ugb_density = ugb_df[\"Persons per km2\"].astype(float)"
   ]
  },
  {
   "cell_type": "code",
   "execution_count": 29,
   "metadata": {},
   "outputs": [],
   "source": [
    "#heatmap layer\n",
    "fig = gmaps.figure()\n",
    "\n",
    "heat_layer = gmaps.heatmap_layer(locations, weights=density, \n",
    "                                 dissipating=False, max_intensity=5000,\n",
    "                                 point_radius = 1)\n",
    "\n",
    "fig.add_layer(heat_layer)"
   ]
  },
  {
   "cell_type": "code",
   "execution_count": 30,
   "metadata": {},
   "outputs": [],
   "source": [
    "#add ugb markers\n",
    "ugb_layer = gmaps.symbol_layer(\n",
    "    ugb_locations, fill_color='rgba(0, 150, 0, 0.4)',\n",
    "    stroke_color='rgba(0, 0, 150, 0.4)', scale=4)\n",
    "    \n",
    "fig = gmaps.figure()\n",
    "fig.add_layer(ugb_layer)"
   ]
  },
  {
   "cell_type": "code",
   "execution_count": 31,
   "metadata": {},
   "outputs": [
    {
     "data": {
      "application/vnd.jupyter.widget-view+json": {
       "model_id": "578f15e1ce154bbabd34a879874f7acf",
       "version_major": 2,
       "version_minor": 0
      },
      "text/plain": [
       "Figure(layout=FigureLayout(height='420px'))"
      ]
     },
     "metadata": {},
     "output_type": "display_data"
    }
   ],
   "source": [
    "#add layers and show figure\n",
    "fig = gmaps.figure()\n",
    "fig.add_layer(heat_layer)\n",
    "fig.add_layer(ugb_layer)\n",
    "\n",
    "fig"
   ]
  },
  {
   "cell_type": "code",
   "execution_count": 32,
   "metadata": {},
   "outputs": [
    {
     "data": {
      "image/png": "[encoded data removed]",
      "text/plain": [
       "<Figure size 432x288 with 1 Axes>"
      ]
     },
     "metadata": {
      "needs_background": "light"
     },
     "output_type": "display_data"
    },
    {
     "data": {
      "text/plain": [
       "<Figure size 432x288 with 0 Axes>"
      ]
     },
     "metadata": {},
     "output_type": "display_data"
    }
   ],
   "source": [
    "#create boxplots\n",
    "data = [density, ugb_density]\n",
    "fig1, ax1 = plt.subplots()\n",
    "ax1.set_title('Population Density for Top 100 US Cities vs UGB Cities')\n",
    "ax1.set_ylabel('Persons per km2')\n",
    "ax1.boxplot(data)\n",
    "ax1.set_xticklabels(['Top 100 Cities', 'UGB Cities'])\n",
    "top = 5000\n",
    "bottom = 0\n",
    "ax1.set_ylim(bottom, top)\n",
    "plt.show()\n",
    "plt.savefig(\"../UGB/PopD_boxplot.png\")\n",
    "plt.show()"
   ]
  },
  {
   "cell_type": "code",
   "execution_count": 33,
   "metadata": {},
   "outputs": [
    {
     "name": "stdout",
     "output_type": "stream",
     "text": [
      "The lower quartile of population density is: 951.5\n",
      "The upper quartile of population density is: 2011.0\n",
      "The interquartile range of population density is: 1059.5\n",
      "The the median of population density is: 1386.0 \n",
      "Values below -637.75 could be outliers.\n",
      "Values above 3600.25 could be outliers.\n"
     ]
    }
   ],
   "source": [
    "#Top 100 cities quartiles and outliers\n",
    "quartiles = density.quantile([.25,.5,.75])\n",
    "lowerq = quartiles[0.25]\n",
    "upperq = quartiles[0.75]\n",
    "iqr = upperq-lowerq\n",
    "\n",
    "print(f\"The lower quartile of population density is: {lowerq}\")\n",
    "print(f\"The upper quartile of population density is: {upperq}\")\n",
    "print(f\"The interquartile range of population density is: {iqr}\")\n",
    "print(f\"The the median of population density is: {quartiles[0.5]} \")\n",
    "\n",
    "lower_bound = lowerq - (1.5*iqr)\n",
    "upper_bound = upperq + (1.5*iqr)\n",
    "print(f\"Values below {lower_bound} could be outliers.\")\n",
    "print(f\"Values above {upper_bound} could be outliers.\")"
   ]
  },
  {
   "cell_type": "code",
   "execution_count": 34,
   "metadata": {},
   "outputs": [
    {
     "name": "stdout",
     "output_type": "stream",
     "text": [
      "The lower quartile of UGB population density is: 1874.0\n",
      "The upper quartile of UGB population density is: 3019.0\n",
      "The interquartile range of UGB population density is: 1145.0\n",
      "The the median of UGB population density is: 2257.0 \n",
      "Values below 156.5 could be outliers.\n",
      "Values above 4736.5 could be outliers.\n"
     ]
    }
   ],
   "source": [
    "#UGB cities quartiles and outliers\n",
    "quartiles = ugb_density.quantile([.25,.5,.75])\n",
    "lowerq = quartiles[0.25]\n",
    "upperq = quartiles[0.75]\n",
    "iqr = upperq-lowerq\n",
    "\n",
    "print(f\"The lower quartile of UGB population density is: {lowerq}\")\n",
    "print(f\"The upper quartile of UGB population density is: {upperq}\")\n",
    "print(f\"The interquartile range of UGB population density is: {iqr}\")\n",
    "print(f\"The the median of UGB population density is: {quartiles[0.5]} \")\n",
    "\n",
    "lower_bound = lowerq - (1.5*iqr)\n",
    "upper_bound = upperq + (1.5*iqr)\n",
    "print(f\"Values below {lower_bound} could be outliers.\")\n",
    "print(f\"Values above {upper_bound} could be outliers.\")"
   ]
  },
  {
   "cell_type": "code",
   "execution_count": null,
   "metadata": {},
   "outputs": [],
   "source": [
    "# End of code for Question 4: population density"
   ]
  }
 ],
 "metadata": {
  "kernelspec": {
   "display_name": "Python 3",
   "language": "python",
   "name": "python3"
  },
  "language_info": {
   "codemirror_mode": {
    "name": "ipython",
    "version": 3
   },
   "file_extension": ".py",
   "mimetype": "text/x-python",
   "name": "python",
   "nbconvert_exporter": "python",
   "pygments_lexer": "ipython3",
   "version": "3.6.9"
  }
 },
 "nbformat": 4,
 "nbformat_minor": 4
}
