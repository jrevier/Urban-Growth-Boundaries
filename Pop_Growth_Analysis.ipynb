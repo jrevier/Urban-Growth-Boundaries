{
 "cells": [
  {
   "cell_type": "code",
   "execution_count": null,
   "metadata": {},
   "outputs": [],
   "source": [
    "#setup dependencies\n",
    "import pandas as pd\n",
    "import numpy as np \n",
    "import scipy.stats as stats\n",
    "import matplotlib.pyplot as plt\n",
    "from scipy.stats import linregress\n",
    "import gmaps\n",
    "import requests\n",
    "import json\n",
    "from config import gkey"
   ]
  },
  {
   "cell_type": "code",
   "execution_count": null,
   "metadata": {},
   "outputs": [],
   "source": [
    "#import csvs\n",
    "UGB_Popcsv = \"UGB_pop.csv\"\n",
    "UGB_Growcsv = \"UGB_PopGrowth.csv\"\n",
    "top100_Popcsv = \"Top100_CitiesPop.csv\"\n",
    "top100_Growcsv = \"Pop_Growth.csv\""
   ]
  },
  {
   "cell_type": "code",
   "execution_count": null,
   "metadata": {},
   "outputs": [],
   "source": [
    "#set up dataframes and check output\n",
    "#UGB pop and growth\n",
    "#top 100 pop and growth\n",
    "UGBpop_df = pd.read_csv(UGB_Popcsv)\n",
    "UGBgro_df = pd.read_csv(UGB_Growcsv)\n",
    "Toppop_df = pd.read_csv(top100_Popcsv)\n",
    "Topgro_df = pd.read_csv(top100_Growcsv)"
   ]
  },
  {
   "cell_type": "code",
   "execution_count": null,
   "metadata": {},
   "outputs": [],
   "source": [
    "#merge the top100 Pop and growth, output\n",
    "top100_df = pd.merge(Toppop_df, Topgro_df, how = \"left\", on = [\"ID\", \"ID\"])\n",
    "#top100_df.head()"
   ]
  },
  {
   "cell_type": "code",
   "execution_count": null,
   "metadata": {
    "scrolled": true
   },
   "outputs": [],
   "source": [
    "#merge UGB pop and growth, output\n",
    "UGB_df = pd.merge(UGBpop_df, UGBgro_df, how = \"left\", on = [\"ID\", \"ID\"])\n",
    "#UGB_df"
   ]
  },
  {
   "cell_type": "code",
   "execution_count": null,
   "metadata": {},
   "outputs": [],
   "source": [
    "#reformat the df's, (remove Rank_x, Rank_y, City_y, State_y,\n",
    "#Estimated Population 2017, Estimated Population 2018)\n",
    "UGB_df.drop([\"Rank_x\", \"Rank_y\", \"City_y\", \"State_y\",\"Estimated Population 2017\", \"Estimated Population 2018\"], axis = 1, inplace = True)\n",
    "UGB_df.rename(columns = {\"Rank_x\": \"Rank\", \"City_x\": \"City\", \"State_x\": \"State\"}, inplace = True)\n",
    "UGB_df"
   ]
  },
  {
   "cell_type": "code",
   "execution_count": null,
   "metadata": {},
   "outputs": [],
   "source": [
    "#repeat for the top100 cities, rename City_x and State_x\n",
    "top100_df.drop([\"Rank_x\", \"Rank_y\", \"City_y\", \"State_y\",\"Estimated Population 2017\", \"Estimated Population 2018\"], axis = 1, inplace = True)\n",
    "top100_df.rename(columns = {\"Rank_x\": \"Rank\", \"City_x\": \"City\", \"State_x\": \"State\"}, inplace = True)\n",
    "top100_df"
   ]
  },
  {
   "cell_type": "code",
   "execution_count": null,
   "metadata": {
    "scrolled": false
   },
   "outputs": [],
   "source": [
    "#create statistics\n",
    "UGB_summ_df = {}\n",
    "UGB_summ_df = pd.DataFrame()\n",
    "\n",
    "UGB_summ_df[\"Avg Population\"] = [UGB_df[\"2018_Estimate\"].mean()]\n",
    "UGB_summ_df[\"Median Population\"] = [UGB_df[\"2018_Estimate\"].median()]\n",
    "UGB_summ_df[\"Population Variance\"] = [UGB_df[\"2018_Estimate\"].var()]\n",
    "UGB_summ_df[\"Population Standard Deviation\"] = [UGB_df[\"2018_Estimate\"].std()]\n",
    "UGB_summ_df[\"Population SEM\"] = [UGB_df[\"2018_Estimate\"].sem()]\n",
    "\n",
    "UGB_summ_df[\"Avg Pop Growth\"] = [UGB_df[\"Percent Difference\"].mean()]\n",
    "UGB_summ_df[\"Median Pop Growth\"] = [UGB_df[\"Percent Difference\"].median()]\n",
    "UGB_summ_df[\"Pop Growth Variance\"] = [UGB_df[\"Percent Difference\"].var()]\n",
    "UGB_summ_df[\"Pop Gorwth Standard Deviation\"] = [UGB_df[\"Percent Difference\"].std()]\n",
    "UGB_summ_df[\"Pop Growth SEM\"] = [UGB_df[\"Percent Difference\"].sem()]\n",
    "\n",
    "UGB_summ_df = pd.DataFrame(UGB_summ_df)\n",
    "UGB_summ_df"
   ]
  },
  {
   "cell_type": "code",
   "execution_count": null,
   "metadata": {
    "scrolled": true
   },
   "outputs": [],
   "source": [
    "top100_summ_df = {}\n",
    "top100_summ_df = pd.DataFrame()\n",
    "\n",
    "top100_summ_df[\"Avg Population\"] = [top100_df[\"2018_Estimate\"].mean()]\n",
    "top100_summ_df[\"Median Population\"] = [top100_df[\"2018_Estimate\"].median()]\n",
    "top100_summ_df[\"Population Variance\"] = [top100_df[\"2018_Estimate\"].var()]\n",
    "top100_summ_df[\"Population Standard Deviation\"] = [top100_df[\"2018_Estimate\"].std()]\n",
    "top100_summ_df[\"Population SEM\"] = [top100_df[\"2018_Estimate\"].sem()]\n",
    "\n",
    "top100_summ_df[\"Avg Pop Growth\"] = [top100_df[\"Percent Difference\"].mean()]\n",
    "top100_summ_df[\"Median Pop Growth\"] = [top100_df[\"Percent Difference\"].median()]\n",
    "top100_summ_df[\"Pop Growth Variance\"] = [top100_df[\"Percent Difference\"].var()]\n",
    "top100_summ_df[\"Pop Gorwth Standard Deviation\"] = [top100_df[\"Percent Difference\"].std()]\n",
    "top100_summ_df[\"Pop Growth SEM\"] = [top100_df[\"Percent Difference\"].sem()]\n",
    "\n",
    "top100_sum_df = pd.DataFrame(top100_summ_df)\n",
    "top100_sum_df"
   ]
  },
  {
   "cell_type": "code",
   "execution_count": null,
   "metadata": {
    "scrolled": true
   },
   "outputs": [],
   "source": [
    "#barchart of UGB cities population\n",
    "plt.bar(UGB_df[\"City\"], UGB_df[\"2018_Estimate\"], width = 0.5, color = 'lightskyblue')\n",
    "plt.title(\"Populations of UGB Cities\")\n",
    "plt.xlabel(\"City\")\n",
    "plt.ylabel(\"Population\")\n",
    "plt.xlim(-1,10)\n",
    "plt.ylim(0,1050000)\n",
    "plt.xticks(rotation = 45)"
   ]
  },
  {
   "cell_type": "code",
   "execution_count": null,
   "metadata": {
    "scrolled": true
   },
   "outputs": [],
   "source": [
    "#bar chart of top100, UGB and total US\n",
    "#compare to total US population growth = .62%, https://www.multpl.com/us-population-growth-rate/table/by-year\n",
    "plt.bar(\"Top 100 Cities\", top100_summ_df[\"Avg Pop Growth\"], color = 'lightskyblue')\n",
    "plt.bar(\"UGB Cities\", UGB_summ_df[\"Avg Pop Growth\"], color = 'purple' )\n",
    "plt.bar(\"Entire US\", [.62], color = 'crimson')\n",
    "plt.title(\"Average Population Growth by Subset\")\n",
    "plt.xlabel(\"Subset\")\n",
    "plt.ylabel(\"Average Population Growth (%)\")\n",
    "plt.xlim(-1,3)\n",
    "plt.ylim(0,1)\n",
    "plt.xticks(rotation = 45)"
   ]
  },
  {
   "cell_type": "code",
   "execution_count": null,
   "metadata": {},
   "outputs": [],
   "source": [
    "UGB_growth = ((UGB_summ_df[\"Avg Pop Growth\"]/100) * top100_summ_df[\"Avg Population\"])\n",
    "top100_growth = ((top100_summ_df[\"Avg Pop Growth\"]/100) * top100_summ_df[\"Avg Population\"])\n",
    "US_growth = (.0062 * top100_summ_df[\"Avg Population\"])\n",
    "\n",
    "Pop_growth_df = {}\n",
    "Pop_growth_df = pd.DataFrame()\n",
    "Pop_growth_df[\"UGB Pop Increase\"] = UGB_growth\n",
    "Pop_growth_df[\"Top 100 City Pop Increase\"] = top100_growth\n",
    "Pop_growth_df[\"USA Pop Increase\"] = US_growth\n",
    "Pop_growth_df = pd.DataFrame(Pop_growth_df)\n",
    "Pop_growth_df"
   ]
  },
  {
   "cell_type": "code",
   "execution_count": null,
   "metadata": {},
   "outputs": [],
   "source": [
    "UGB_sample = (UGB_df[\"Percent Difference\"])\n",
    "top100_sample = (top100_df[\"Percent Difference\"])\n",
    "stats.ttest_ind(UGB_sample, top100_sample, equal_var=False)"
   ]
  },
  {
   "cell_type": "code",
   "execution_count": null,
   "metadata": {},
   "outputs": [],
   "source": [
    "#creat heatmap of UGB cities population growth and decline\n",
    "target_cities = [\"San Jose, California\", \"Seattle, Washington\", \"Portland, Oregon\", \"Miami, Florida\", \"Virginia Beach, Virginia\",\n",
    "                \"Minneapolis, Minnesota\", \"Honolulu, Hawaii\", \"Lexington, Kentucky\", \"St. Paul, Minnesota\", \"Boulder, Colorado\"]\n",
    "\n",
    "for city in target_cities:\n",
    "    params = {\"address\": city, \"key\": gkey}\n",
    "    base_url = \"https://maps.googleapis.com/maps/api/geocode/json\"\n",
    "    response = requests.get(base_url, params = params)\n",
    "\n",
    "    cities_geo = response.json()\n",
    "\n",
    "    lat = cities_geo[\"results\"][0][\"geometry\"][\"location\"][\"lat\"]\n",
    "    lng = cities_geo[\"results\"][0][\"geometry\"][\"location\"][\"lng\"]\n",
    "\n",
    "    print(f\"{city}: {lat}, {lng}\")\n"
   ]
  },
  {
   "cell_type": "code",
   "execution_count": null,
   "metadata": {},
   "outputs": [],
   "source": [
    "#create data frame of the outputs\n",
    "cities_df = {}\n",
    "cities_df = pd.DataFrame()\n",
    "\n",
    "cities_df[\"City\"] = [\"San Jose, California\", \"Seattle, Washington\", \"Portland, Oregon\", \"Miami, Florida\", \"Virginia Beach, Virginia\",\n",
    "                \"Minneapolis, Minnesota\", \"Honolulu, Hawaii\", \"Lexington, Kentucky\", \"St. Paul, Minnesota\", \"Boulder, Colorado\"]\n",
    "cities_df[\"Lat\"] = [37.3382082, 47.6062095, 45.5051064,\n",
    "                           25.7616798, 36.8529263, 44.977753,\n",
    "                           21.3069444, 38.0405837, 44.9537029, 40.0149856]\n",
    "cities_df[\"Lng\"] = [\"-121.8863286\", \"-122.3320708\", \"-122.6750261\", \"-80.1917902\", \"-75.97798499999999\", \"-93.2650108\",\n",
    "                    \"-157.8583333\", \"-84.5037164\", \"-93.0899578\", \"-105.2705456\"]\n",
    "\n",
    "cities_df[\"Population Growth\"] = UGB_df[\"Percent Difference\"]\n",
    "cities_df = pd.DataFrame(cities_df)\n",
    "cities_df"
   ]
  },
  {
   "cell_type": "code",
   "execution_count": null,
   "metadata": {},
   "outputs": [],
   "source": [
    "#create heatmap \n",
    "locations = cities_df[[\"Lat\", \"Lng\"]].astype(float)\n",
    "growth = cities_df[\"Population Growth\"].astype(float)\n",
    "\n",
    "fig = gmaps.figure()\n",
    "\n",
    "heat_layer = gmaps.heatmap_layer(locations, weights = (growth + .6), \n",
    "                                 dissipating = False, max_intensity = 2.7,\n",
    "                                 point_radius = 1)\n",
    "\n",
    "fig.add_layer(heat_layer)\n",
    "\n",
    "fig"
   ]
  },
  {
   "cell_type": "code",
   "execution_count": null,
   "metadata": {},
   "outputs": [],
   "source": [
    "#positive cities; Seattle, Portland, Miami, Virginia Beach, Lexington, Minneapolis, St. Paul \n",
    "#negative cities; San Jose, Honolulu, Boulder"
   ]
  },
  {
   "cell_type": "code",
   "execution_count": null,
   "metadata": {},
   "outputs": [],
   "source": []
  }
 ],
 "metadata": {
  "kernelspec": {
   "display_name": "Python 3",
   "language": "python",
   "name": "python3"
  },
  "language_info": {
   "codemirror_mode": {
    "name": "ipython",
    "version": 3
   },
   "file_extension": ".py",
   "mimetype": "text/x-python",
   "name": "python",
   "nbconvert_exporter": "python",
   "pygments_lexer": "ipython3",
   "version": "3.6.9"
  }
 },
 "nbformat": 4,
 "nbformat_minor": 2
}
