{
 "cells": [
  {
   "cell_type": "code",
   "execution_count": null,
   "metadata": {},
   "outputs": [],
   "source": [
    "#import denpendencies\n",
    "import matplotlib.pyplot as plt\n",
    "import pandas as pd\n",
    "import numpy as np\n",
    "import requests\n",
    "import time\n",
    "from scipy.stats import linregress\n",
    "\n",
    "from config import census_key\n"
   ]
  },
  {
   "cell_type": "code",
   "execution_count": null,
   "metadata": {},
   "outputs": [],
   "source": [
    "#read csv files\n",
    "populationcsv = \"Data/Top100_CitiesPop.csv\"\n",
    "population = pd.read_csv(populationcsv)\n"
   ]
  },
  {
   "cell_type": "code",
   "execution_count": null,
   "metadata": {},
   "outputs": [],
   "source": [
    "#read density csv file from simplemaps.com\n",
    "densitycsv = \"Data/top_100.csv\"\n",
    "density = pd.read_csv(densitycsv)"
   ]
  },
  {
   "cell_type": "code",
   "execution_count": null,
   "metadata": {},
   "outputs": [],
   "source": [
    "#merge the files on City\n",
    "popdens = pd.merge(population, density, how=\"left\", left_on=\"City\", right_on=\"city\")\n",
    "popdens_clean = popdens[[\"Rank\", \"City\", \"2010 Census\", \"state\", \"pop_density\"]]\n",
    "popdens_clean = popdens_clean.rename(columns = {\"pop_density\": \"Persons by km2\", \"state\": \"State\"})"
   ]
  },
  {
   "cell_type": "code",
   "execution_count": null,
   "metadata": {},
   "outputs": [],
   "source": [
    "# Beginning of Housing Type/Cost Data Cleaning"
   ]
  },
  {
   "cell_type": "code",
   "execution_count": null,
   "metadata": {},
   "outputs": [],
   "source": [
    "# Import data table -need leading zeroes for FIPS\n",
    "api_cities = pd.read_csv(\"Data/Top100_FIPSCodes.csv\", dtype={'StateFIPS': 'str', 'Place FIPS': 'str'})"
   ]
  },
  {
   "cell_type": "code",
   "execution_count": null,
   "metadata": {},
   "outputs": [],
   "source": [
    "# Adding columns to data frame for API call\n",
    "api_cities[\"Name\"] = ''\n",
    "api_cities[\"B25024_001E\"] = \"\"\n",
    "api_cities[\"B25024_002E\"] = \"\"\n",
    "api_cities[\"B25024_003E\"] = \"\"\n",
    "api_cities[\"B25024_004E\"] = \"\"\n",
    "api_cities[\"B25024_005E\"] = \"\"\n",
    "api_cities[\"B25024_006E\"] = \"\"\n",
    "api_cities[\"B25024_007E\"] = \"\"\n",
    "api_cities[\"B25024_008E\"] = \"\"\n",
    "api_cities[\"B25024_009E\"] = \"\"\n",
    "api_cities[\"B25024_010E\"] = \"\"\n",
    "api_cities[\"B25024_011E\"] = \"\"\n",
    "api_cities[\"B25105_001E\"] = \"\"\n",
    "api_cities[\"B25105_001M\"] = \"\""
   ]
  },
  {
   "cell_type": "code",
   "execution_count": null,
   "metadata": {},
   "outputs": [],
   "source": [
    "# API Call\n",
    "# Housing (Units and structure) - B25024_001E through B25024_011E\n",
    "# Meidan Housing Costs - B25105_001E (Estimate) and B25105_001M (Margin of error)\n",
    "variables = \"NAME,B25024_001E,B25024_002E,B25024_003E,B25024_004E,B25024_005E,B25024_006E,B25024_007E,\\\n",
    "B25024_008E,B25024_009E,B25024_010E,B25024_011E,B25105_001E,B25105_001M\"\n",
    "\n",
    "# base URL\n",
    "base_url = \"https://api.census.gov/data/2018/acs/acs1?get=\"\n",
    "\n",
    "# API Call - looping through data frame\n",
    "for index, row in cities.iterrows():\n",
    "    \n",
    "    st = row[\"StateFIPS\"]\n",
    "    place = row[\"Place FIPS\"]\n",
    "    \n",
    "    query_url = f\"{base_url}{variables}&for=place:{place}&in=state:{st}&key={census_key}\"\n",
    "    \n",
    "    try:\n",
    "        response = requests.get(query_url)\n",
    "        housing_call = response.json()\n",
    "    \n",
    "        # Update dataframe\n",
    "        api_cities.loc[index, \"Name\"] = housing_call[1][0]\n",
    "        api_cities.loc[index, \"B25024_001E\"] = housing_call[1][1]\n",
    "        api_cities.loc[index, \"B25024_002E\"] = housing_call[1][2]\n",
    "        api_cities.loc[index, \"B25024_003E\"] = housing_call[1][3]\n",
    "        api_cities.loc[index, \"B25024_004E\"] = housing_call[1][4]\n",
    "        api_cities.loc[index, \"B25024_005E\"] = housing_call[1][5]\n",
    "        api_cities.loc[index, \"B25024_006E\"] = housing_call[1][6]\n",
    "        api_cities.loc[index, \"B25024_007E\"] = housing_call[1][7]\n",
    "        api_cities.loc[index, \"B25024_008E\"] = housing_call[1][8]\n",
    "        api_cities.loc[index, \"B25024_009E\"] = housing_call[1][9]\n",
    "        api_cities.loc[index, \"B25024_010E\"] = housing_call[1][10]\n",
    "        api_cities.loc[index, \"B25024_011E\"] = housing_call[1][11]\n",
    "        api_cities.loc[index, \"B25105_001E\"] = housing_call[1][12]\n",
    "        api_cities.loc[index, \"B25105_001M\"] = housing_call[1][13]\n",
    "    \n",
    "    except:\n",
    "        print(\"City notfound\")\n",
    "\n",
    "api_cities"
   ]
  },
  {
   "cell_type": "code",
   "execution_count": null,
   "metadata": {},
   "outputs": [],
   "source": [
    "# Rename Columns\n",
    "housing = api_cities.rename(columns={\"B25024_001E\": \"Total Response\",\n",
    "                              \"B25024_002E\": \"1, detached\",\n",
    "                              \"B25024_003E\": \"1, attached\",\n",
    "                              \"B25024_004E\": \"2 units\",\n",
    "                              \"B25024_005E\": \"3 or 4 units\",\n",
    "                              \"B25024_006E\": \"5 to 9 units\",\n",
    "                              \"B25024_007E\": \"10 to 19 units\",\n",
    "                              \"B25024_008E\": \"20 to 49 units\",\n",
    "                              \"B25024_009E\": \"50 or more units\",\n",
    "                              \"B25024_010E\": \"Mobile Home\",\n",
    "                              \"B25024_011E\": \"Boat RV Van Etc\",\n",
    "                              \"B25105_001E\": \"Median Housing Costs\",\n",
    "                              \"B25105_001M\": \"MOE Housing Costs\"})"
   ]
  },
  {
   "cell_type": "code",
   "execution_count": null,
   "metadata": {},
   "outputs": [],
   "source": [
    "# New Column for UGB identifier\n",
    "housing[\"UGB\"] = \"\"\n",
    "\n",
    "# Create list for UGB identifer\n",
    "ugb = pd.read_csv(\"Data/ugb_cities.csv\")\n",
    "ugb_cities = list(ugb['City'])\n",
    "\n",
    "# Add UGB Identifier to Dataframe\n",
    "for index, row in housing.iterrows():\n",
    "    if row[\"City\"] in ugb_cities:\n",
    "        housing.loc[index, \"UGB\"] = \"Yes\"\n",
    "    else: housing.loc[index, \"UGB\"] = \"No\"\n"
   ]
  },
  {
   "cell_type": "code",
   "execution_count": null,
   "metadata": {},
   "outputs": [],
   "source": [
    "# Changing API call data type from object to a number\n",
    "housing.dtypes\n",
    "housing = housing.apply(pd.to_numeric, errors='ignore')"
   ]
  },
  {
   "cell_type": "code",
   "execution_count": null,
   "metadata": {},
   "outputs": [],
   "source": [
    "# Adding the 1 unit columns together\n",
    "housing[\"1 unit\"] = housing[\"1, detached\"] + housing[\"1, attached\"]\n",
    "\n",
    "# Creating other group for non structured types\n",
    "housing[\"Other\"] = housing[\"Mobile Home\"] + housing[\"Boat RV Van Etc\"]\n",
    "\n",
    "# Filtering out non-necessary columns and rearranging\n",
    "housing_clean = housing[[\"City\", \"State\", \"UGB\", \"1 unit\", \"2 units\", \"3 or 4 units\", \"5 to 9 units\",\n",
    "                    \"10 to 19 units\", \"20 to 49 units\", \"50 or more units\", \"Other\", \"Total Response\", \n",
    "                         \"Median Housing Costs\", \"MOE Housing Costs\"]]\n",
    "\n",
    "# Output to csv\n",
    "housing_clean.to_csv(\"Data/HousingTypes_Cleaned.csv\", index=False, header=True)"
   ]
  },
  {
   "cell_type": "code",
   "execution_count": null,
   "metadata": {},
   "outputs": [],
   "source": [
    "# End of Housing Type/Cost Data Cleaning"
   ]
  },
  {
   "cell_type": "code",
   "execution_count": null,
   "metadata": {},
   "outputs": [],
   "source": []
  }
 ],
 "metadata": {
  "kernelspec": {
   "display_name": "Python 3",
   "language": "python",
   "name": "python3"
  },
  "language_info": {
   "codemirror_mode": {
    "name": "ipython",
    "version": 3
   },
   "file_extension": ".py",
   "mimetype": "text/x-python",
   "name": "python",
   "nbconvert_exporter": "python",
   "pygments_lexer": "ipython3",
   "version": "3.6.9"
  }
 },
 "nbformat": 4,
 "nbformat_minor": 4
}
