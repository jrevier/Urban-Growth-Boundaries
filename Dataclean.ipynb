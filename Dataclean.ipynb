{
 "cells": [
  {
   "cell_type": "code",
   "execution_count": 3,
   "metadata": {},
   "outputs": [],
   "source": [
    "#import denpendencies\n",
    "import matplotlib.pyplot as plt\n",
    "import pandas as pd\n",
    "import numpy as np\n",
    "import requests\n",
    "import time\n",
    "from scipy.stats import linregress\n",
    "\n",
    "\n"
   ]
  },
  {
   "cell_type": "code",
   "execution_count": 14,
   "metadata": {},
   "outputs": [],
   "source": [
    "#read csv files\n",
    "populationcsv = \"Data/Top100_CitiesPop.csv\"\n",
    "population = pd.read_csv(populationcsv)\n"
   ]
  },
  {
   "cell_type": "code",
   "execution_count": 13,
   "metadata": {},
   "outputs": [],
   "source": [
    "#read density csv file from simplemaps.com\n",
    "densitycsv = \"Data/top_100.csv\"\n",
    "density = pd.read_csv(densitycsv)"
   ]
  },
  {
   "cell_type": "code",
   "execution_count": 12,
   "metadata": {},
   "outputs": [],
   "source": [
    "#merge the files on City\n",
    "popdens = pd.merge(population, density, how=\"left\", left_on=\"City\", right_on=\"city\")\n",
    "popdens_clean = popdens[[\"Rank\", \"City\", \"2010 Census\", \"state\", \"pop_density\"]]\n",
    "popdens_clean = popdens_clean.rename(columns = {\"pop_density\": \"Persons by km2\", \"state\": \"State\"})"
   ]
  },
  {
   "cell_type": "code",
   "execution_count": null,
   "metadata": {},
   "outputs": [],
   "source": []
  },
  {
   "cell_type": "code",
   "execution_count": null,
   "metadata": {},
   "outputs": [],
   "source": []
  }
 ],
 "metadata": {
  "kernelspec": {
   "display_name": "Python 3",
   "language": "python",
   "name": "python3"
  }
 },
 "nbformat": 4,
 "nbformat_minor": 4
}
